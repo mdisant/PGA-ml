{
 "cells": [
  {
   "cell_type": "markdown",
   "metadata": {
    "cell_id": "1a4d67104ac84828aeaf3ef315e942ba",
    "deepnote_cell_type": "text-cell-h1",
    "formattedRanges": [],
    "is_collapsed": false,
    "tags": []
   },
   "source": [
    "# PGA Tour Machine Learning"
   ]
  },
  {
   "cell_type": "code",
   "execution_count": 1,
   "metadata": {
    "cell_id": "7d442e1ddf8e4319acd6e115e3b0363a",
    "deepnote_cell_type": "code",
    "deepnote_to_be_reexecuted": false,
    "execution_millis": 1690,
    "execution_start": 1675296683325,
    "source_hash": "448e9400",
    "tags": []
   },
   "outputs": [],
   "source": [
    "# Data Manipulation\n",
    "import pandas as pd\n",
    "import numpy as np\n",
    "\n",
    "# Machine Learning\n",
    "from sklearn.compose import ColumnTransformer\n",
    "from sklearn.preprocessing import StandardScaler\n",
    "from sklearn.preprocessing import OneHotEncoder\n",
    "from sklearn.model_selection import StratifiedShuffleSplit\n",
    "from sklearn.neural_network import MLPClassifier\n",
    "from sklearn.neighbors import KNeighborsClassifier\n",
    "from sklearn.svm import SVC\n",
    "from sklearn.tree import DecisionTreeClassifier\n",
    "from sklearn.ensemble import RandomForestClassifier, AdaBoostClassifier\n",
    "\n",
    "# Visualizations\n",
    "import seaborn as sns\n",
    "import matplotlib.pyplot as plt\n",
    "%matplotlib inline"
   ]
  },
  {
   "cell_type": "markdown",
   "metadata": {
    "cell_id": "98adf8e4dbbf4d64a8753e31e4b25900",
    "deepnote_cell_type": "text-cell-h2",
    "formattedRanges": [],
    "is_collapsed": false,
    "tags": []
   },
   "source": [
    "## Cleaning the Data"
   ]
  },
  {
   "cell_type": "code",
   "execution_count": 4,
   "metadata": {
    "cell_id": "4687e92e1960498fa413e9c84ba0ba87",
    "deepnote_cell_type": "code",
    "deepnote_to_be_reexecuted": false,
    "execution_millis": 202,
    "execution_start": 1675298447007,
    "source_hash": "dcb06561",
    "tags": []
   },
   "outputs": [
    {
     "data": {
      "text/html": [
       "<div>\n",
       "<style scoped>\n",
       "    .dataframe tbody tr th:only-of-type {\n",
       "        vertical-align: middle;\n",
       "    }\n",
       "\n",
       "    .dataframe tbody tr th {\n",
       "        vertical-align: top;\n",
       "    }\n",
       "\n",
       "    .dataframe thead th {\n",
       "        text-align: right;\n",
       "    }\n",
       "</style>\n",
       "<table border=\"1\" class=\"dataframe\">\n",
       "  <thead>\n",
       "    <tr style=\"text-align: right;\">\n",
       "      <th></th>\n",
       "      <th>Player_initial_last</th>\n",
       "      <th>tournament id</th>\n",
       "      <th>player id</th>\n",
       "      <th>hole_par</th>\n",
       "      <th>strokes</th>\n",
       "      <th>hole_DKP</th>\n",
       "      <th>hole_FDP</th>\n",
       "      <th>hole_SDP</th>\n",
       "      <th>streak_DKP</th>\n",
       "      <th>streak_FDP</th>\n",
       "      <th>...</th>\n",
       "      <th>purse</th>\n",
       "      <th>season</th>\n",
       "      <th>no_cut</th>\n",
       "      <th>Finish</th>\n",
       "      <th>sg_putt</th>\n",
       "      <th>sg_arg</th>\n",
       "      <th>sg_app</th>\n",
       "      <th>sg_ott</th>\n",
       "      <th>sg_t2g</th>\n",
       "      <th>sg_total</th>\n",
       "    </tr>\n",
       "  </thead>\n",
       "  <tbody>\n",
       "    <tr>\n",
       "      <th>0</th>\n",
       "      <td>A. Hadwin</td>\n",
       "      <td>401353275</td>\n",
       "      <td>5548</td>\n",
       "      <td>284</td>\n",
       "      <td>283</td>\n",
       "      <td>57.0</td>\n",
       "      <td>51.3</td>\n",
       "      <td>62</td>\n",
       "      <td>0</td>\n",
       "      <td>1.8</td>\n",
       "      <td>...</td>\n",
       "      <td>15.0</td>\n",
       "      <td>2022</td>\n",
       "      <td>1</td>\n",
       "      <td>T44</td>\n",
       "      <td>-0.56</td>\n",
       "      <td>0.23</td>\n",
       "      <td>-0.03</td>\n",
       "      <td>-0.13</td>\n",
       "      <td>0.06</td>\n",
       "      <td>-0.50</td>\n",
       "    </tr>\n",
       "    <tr>\n",
       "      <th>1</th>\n",
       "      <td>A. Noren</td>\n",
       "      <td>401353275</td>\n",
       "      <td>3832</td>\n",
       "      <td>284</td>\n",
       "      <td>285</td>\n",
       "      <td>47.0</td>\n",
       "      <td>43.3</td>\n",
       "      <td>62</td>\n",
       "      <td>3</td>\n",
       "      <td>1.8</td>\n",
       "      <td>...</td>\n",
       "      <td>15.0</td>\n",
       "      <td>2022</td>\n",
       "      <td>1</td>\n",
       "      <td>T52</td>\n",
       "      <td>0.99</td>\n",
       "      <td>-0.09</td>\n",
       "      <td>-1.63</td>\n",
       "      <td>-0.28</td>\n",
       "      <td>-1.99</td>\n",
       "      <td>-1.00</td>\n",
       "    </tr>\n",
       "    <tr>\n",
       "      <th>2</th>\n",
       "      <td>A. Putnam</td>\n",
       "      <td>401353275</td>\n",
       "      <td>5502</td>\n",
       "      <td>284</td>\n",
       "      <td>279</td>\n",
       "      <td>65.0</td>\n",
       "      <td>61.1</td>\n",
       "      <td>66</td>\n",
       "      <td>3</td>\n",
       "      <td>7.6</td>\n",
       "      <td>...</td>\n",
       "      <td>15.0</td>\n",
       "      <td>2022</td>\n",
       "      <td>1</td>\n",
       "      <td>T23</td>\n",
       "      <td>1.30</td>\n",
       "      <td>0.49</td>\n",
       "      <td>-0.27</td>\n",
       "      <td>-1.01</td>\n",
       "      <td>-0.80</td>\n",
       "      <td>0.50</td>\n",
       "    </tr>\n",
       "    <tr>\n",
       "      <th>3</th>\n",
       "      <td>A. Scott</td>\n",
       "      <td>401353275</td>\n",
       "      <td>388</td>\n",
       "      <td>284</td>\n",
       "      <td>274</td>\n",
       "      <td>77.5</td>\n",
       "      <td>72.7</td>\n",
       "      <td>75</td>\n",
       "      <td>0</td>\n",
       "      <td>5.6</td>\n",
       "      <td>...</td>\n",
       "      <td>15.0</td>\n",
       "      <td>2022</td>\n",
       "      <td>1</td>\n",
       "      <td>T5</td>\n",
       "      <td>0.70</td>\n",
       "      <td>0.28</td>\n",
       "      <td>0.27</td>\n",
       "      <td>0.50</td>\n",
       "      <td>1.05</td>\n",
       "      <td>1.75</td>\n",
       "    </tr>\n",
       "    <tr>\n",
       "      <th>4</th>\n",
       "      <td>A. Smalley</td>\n",
       "      <td>401353275</td>\n",
       "      <td>9484</td>\n",
       "      <td>284</td>\n",
       "      <td>283</td>\n",
       "      <td>59.5</td>\n",
       "      <td>54.0</td>\n",
       "      <td>59</td>\n",
       "      <td>3</td>\n",
       "      <td>11.8</td>\n",
       "      <td>...</td>\n",
       "      <td>15.0</td>\n",
       "      <td>2022</td>\n",
       "      <td>1</td>\n",
       "      <td>T44</td>\n",
       "      <td>-0.23</td>\n",
       "      <td>-1.08</td>\n",
       "      <td>1.31</td>\n",
       "      <td>-0.49</td>\n",
       "      <td>-0.27</td>\n",
       "      <td>-0.50</td>\n",
       "    </tr>\n",
       "  </tbody>\n",
       "</table>\n",
       "<p>5 rows × 37 columns</p>\n",
       "</div>"
      ],
      "text/plain": [
       "  Player_initial_last  tournament id  player id  hole_par  strokes  hole_DKP  \\\n",
       "0           A. Hadwin      401353275       5548       284      283      57.0   \n",
       "1            A. Noren      401353275       3832       284      285      47.0   \n",
       "2           A. Putnam      401353275       5502       284      279      65.0   \n",
       "3            A. Scott      401353275        388       284      274      77.5   \n",
       "4          A. Smalley      401353275       9484       284      283      59.5   \n",
       "\n",
       "   hole_FDP  hole_SDP  streak_DKP  streak_FDP  ...  purse  season  no_cut  \\\n",
       "0      51.3        62           0         1.8  ...   15.0    2022       1   \n",
       "1      43.3        62           3         1.8  ...   15.0    2022       1   \n",
       "2      61.1        66           3         7.6  ...   15.0    2022       1   \n",
       "3      72.7        75           0         5.6  ...   15.0    2022       1   \n",
       "4      54.0        59           3        11.8  ...   15.0    2022       1   \n",
       "\n",
       "   Finish  sg_putt  sg_arg  sg_app  sg_ott  sg_t2g  sg_total  \n",
       "0     T44    -0.56    0.23   -0.03   -0.13    0.06     -0.50  \n",
       "1     T52     0.99   -0.09   -1.63   -0.28   -1.99     -1.00  \n",
       "2     T23     1.30    0.49   -0.27   -1.01   -0.80      0.50  \n",
       "3      T5     0.70    0.28    0.27    0.50    1.05      1.75  \n",
       "4     T44    -0.23   -1.08    1.31   -0.49   -0.27     -0.50  \n",
       "\n",
       "[5 rows x 37 columns]"
      ]
     },
     "execution_count": 4,
     "metadata": {},
     "output_type": "execute_result"
    }
   ],
   "source": [
    "# Import data\n",
    "df = pd.read_csv(\"./ASA All PGA Raw Data - Tourn Level.csv\")\n",
    "df.head()"
   ]
  },
  {
   "cell_type": "code",
   "execution_count": 5,
   "metadata": {
    "cell_id": "d89f531c067d442395a51e1ad6f06c41",
    "deepnote_cell_type": "code",
    "deepnote_to_be_reexecuted": false,
    "execution_millis": 2,
    "execution_start": 1675298447880,
    "source_hash": "15ca72e3",
    "tags": []
   },
   "outputs": [],
   "source": [
    "# Remove and rename columns \n",
    "columns = ['player', 'course', 'date', 'player id', 'hole_par', 'strokes', 'n_rounds', 'made_cut', 'purse', 'season', 'no_cut', 'sg_putt',\n",
    "'sg_arg', 'sg_app', 'sg_ott', 'sg_t2g', 'sg_total', 'pos']\n",
    "\n",
    "df = df[columns]\n",
    "\n",
    "df = df.rename(columns={\"player id\": \"player_id\"})"
   ]
  },
  {
   "cell_type": "code",
   "execution_count": 6,
   "metadata": {
    "cell_id": "f649ecff799a4a4e89f8bda8d38b2d26",
    "deepnote_cell_type": "code",
    "deepnote_to_be_reexecuted": false,
    "execution_millis": 5,
    "execution_start": 1675298449130,
    "source_hash": "1cb0aa26",
    "tags": []
   },
   "outputs": [],
   "source": [
    "# Drop all rows with na values in an sg category (revisit in future)\n",
    "df = df.dropna(subset=['sg_total', 'sg_putt', 'sg_arg', 'sg_app', 'sg_ott', 'sg_t2g'])"
   ]
  },
  {
   "cell_type": "code",
   "execution_count": 8,
   "metadata": {
    "cell_id": "69a68bb4a9a84794a1b451d6b72e379f",
    "deepnote_cell_type": "code",
    "deepnote_to_be_reexecuted": false,
    "execution_millis": 8,
    "execution_start": 1675298450000,
    "source_hash": "b715159",
    "tags": []
   },
   "outputs": [],
   "source": [
    "# Make nan values in position the max value\n",
    "max_score_series = df.groupby('course')['pos'].max()\n",
    "df['pos'] = df['pos'].fillna(df['course'].map(max_score_series))"
   ]
  },
  {
   "cell_type": "code",
   "execution_count": 13,
   "metadata": {
    "cell_id": "cbef7e64946346b5bf59438a9066debc",
    "deepnote_cell_type": "code",
    "deepnote_to_be_reexecuted": false,
    "execution_millis": 4,
    "execution_start": 1675298667682,
    "source_hash": "6076594e",
    "tags": []
   },
   "outputs": [],
   "source": [
    "# Create a series with each player_id assigned to player name\n",
    "# This is used to map a player to his player_id in later steps\n",
    "player_df = df[['player', 'player_id']].drop_duplicates()\n",
    "player_series = player_df.set_index('player_id')['player']"
   ]
  },
  {
   "cell_type": "code",
   "execution_count": 15,
   "metadata": {
    "scrolled": true
   },
   "outputs": [
    {
     "data": {
      "text/html": [
       "<div>\n",
       "<style scoped>\n",
       "    .dataframe tbody tr th:only-of-type {\n",
       "        vertical-align: middle;\n",
       "    }\n",
       "\n",
       "    .dataframe tbody tr th {\n",
       "        vertical-align: top;\n",
       "    }\n",
       "\n",
       "    .dataframe thead th {\n",
       "        text-align: right;\n",
       "    }\n",
       "</style>\n",
       "<table border=\"1\" class=\"dataframe\">\n",
       "  <thead>\n",
       "    <tr style=\"text-align: right;\">\n",
       "      <th></th>\n",
       "      <th>player</th>\n",
       "      <th>course</th>\n",
       "      <th>date</th>\n",
       "      <th>player_id</th>\n",
       "      <th>hole_par</th>\n",
       "      <th>strokes</th>\n",
       "      <th>n_rounds</th>\n",
       "      <th>made_cut</th>\n",
       "      <th>purse</th>\n",
       "      <th>season</th>\n",
       "      <th>no_cut</th>\n",
       "      <th>sg_putt</th>\n",
       "      <th>sg_arg</th>\n",
       "      <th>sg_app</th>\n",
       "      <th>sg_ott</th>\n",
       "      <th>sg_t2g</th>\n",
       "      <th>sg_total</th>\n",
       "      <th>pos</th>\n",
       "    </tr>\n",
       "  </thead>\n",
       "  <tbody>\n",
       "    <tr>\n",
       "      <th>0</th>\n",
       "      <td>Adam Hadwin</td>\n",
       "      <td>Wilmington Country Club - Wilmington, DE</td>\n",
       "      <td>2022-08-21</td>\n",
       "      <td>5548</td>\n",
       "      <td>284</td>\n",
       "      <td>283</td>\n",
       "      <td>4</td>\n",
       "      <td>1</td>\n",
       "      <td>15.0</td>\n",
       "      <td>2022</td>\n",
       "      <td>1</td>\n",
       "      <td>-0.56</td>\n",
       "      <td>0.23</td>\n",
       "      <td>-0.03</td>\n",
       "      <td>-0.13</td>\n",
       "      <td>0.06</td>\n",
       "      <td>-0.50</td>\n",
       "      <td>44.0</td>\n",
       "    </tr>\n",
       "    <tr>\n",
       "      <th>1</th>\n",
       "      <td>Alexander Noren</td>\n",
       "      <td>Wilmington Country Club - Wilmington, DE</td>\n",
       "      <td>2022-08-21</td>\n",
       "      <td>3832</td>\n",
       "      <td>284</td>\n",
       "      <td>285</td>\n",
       "      <td>4</td>\n",
       "      <td>1</td>\n",
       "      <td>15.0</td>\n",
       "      <td>2022</td>\n",
       "      <td>1</td>\n",
       "      <td>0.99</td>\n",
       "      <td>-0.09</td>\n",
       "      <td>-1.63</td>\n",
       "      <td>-0.28</td>\n",
       "      <td>-1.99</td>\n",
       "      <td>-1.00</td>\n",
       "      <td>52.0</td>\n",
       "    </tr>\n",
       "    <tr>\n",
       "      <th>2</th>\n",
       "      <td>Andrew Putnam</td>\n",
       "      <td>Wilmington Country Club - Wilmington, DE</td>\n",
       "      <td>2022-08-21</td>\n",
       "      <td>5502</td>\n",
       "      <td>284</td>\n",
       "      <td>279</td>\n",
       "      <td>4</td>\n",
       "      <td>1</td>\n",
       "      <td>15.0</td>\n",
       "      <td>2022</td>\n",
       "      <td>1</td>\n",
       "      <td>1.30</td>\n",
       "      <td>0.49</td>\n",
       "      <td>-0.27</td>\n",
       "      <td>-1.01</td>\n",
       "      <td>-0.80</td>\n",
       "      <td>0.50</td>\n",
       "      <td>23.0</td>\n",
       "    </tr>\n",
       "    <tr>\n",
       "      <th>3</th>\n",
       "      <td>Adam Scott</td>\n",
       "      <td>Wilmington Country Club - Wilmington, DE</td>\n",
       "      <td>2022-08-21</td>\n",
       "      <td>388</td>\n",
       "      <td>284</td>\n",
       "      <td>274</td>\n",
       "      <td>4</td>\n",
       "      <td>1</td>\n",
       "      <td>15.0</td>\n",
       "      <td>2022</td>\n",
       "      <td>1</td>\n",
       "      <td>0.70</td>\n",
       "      <td>0.28</td>\n",
       "      <td>0.27</td>\n",
       "      <td>0.50</td>\n",
       "      <td>1.05</td>\n",
       "      <td>1.75</td>\n",
       "      <td>5.0</td>\n",
       "    </tr>\n",
       "    <tr>\n",
       "      <th>4</th>\n",
       "      <td>Alex Smalley</td>\n",
       "      <td>Wilmington Country Club - Wilmington, DE</td>\n",
       "      <td>2022-08-21</td>\n",
       "      <td>9484</td>\n",
       "      <td>284</td>\n",
       "      <td>283</td>\n",
       "      <td>4</td>\n",
       "      <td>1</td>\n",
       "      <td>15.0</td>\n",
       "      <td>2022</td>\n",
       "      <td>1</td>\n",
       "      <td>-0.23</td>\n",
       "      <td>-1.08</td>\n",
       "      <td>1.31</td>\n",
       "      <td>-0.49</td>\n",
       "      <td>-0.27</td>\n",
       "      <td>-0.50</td>\n",
       "      <td>44.0</td>\n",
       "    </tr>\n",
       "  </tbody>\n",
       "</table>\n",
       "</div>"
      ],
      "text/plain": [
       "            player                                    course        date  \\\n",
       "0      Adam Hadwin  Wilmington Country Club - Wilmington, DE  2022-08-21   \n",
       "1  Alexander Noren  Wilmington Country Club - Wilmington, DE  2022-08-21   \n",
       "2    Andrew Putnam  Wilmington Country Club - Wilmington, DE  2022-08-21   \n",
       "3       Adam Scott  Wilmington Country Club - Wilmington, DE  2022-08-21   \n",
       "4     Alex Smalley  Wilmington Country Club - Wilmington, DE  2022-08-21   \n",
       "\n",
       "   player_id  hole_par  strokes  n_rounds  made_cut  purse  season  no_cut  \\\n",
       "0       5548       284      283         4         1   15.0    2022       1   \n",
       "1       3832       284      285         4         1   15.0    2022       1   \n",
       "2       5502       284      279         4         1   15.0    2022       1   \n",
       "3        388       284      274         4         1   15.0    2022       1   \n",
       "4       9484       284      283         4         1   15.0    2022       1   \n",
       "\n",
       "   sg_putt  sg_arg  sg_app  sg_ott  sg_t2g  sg_total   pos  \n",
       "0    -0.56    0.23   -0.03   -0.13    0.06     -0.50  44.0  \n",
       "1     0.99   -0.09   -1.63   -0.28   -1.99     -1.00  52.0  \n",
       "2     1.30    0.49   -0.27   -1.01   -0.80      0.50  23.0  \n",
       "3     0.70    0.28    0.27    0.50    1.05      1.75   5.0  \n",
       "4    -0.23   -1.08    1.31   -0.49   -0.27     -0.50  44.0  "
      ]
     },
     "execution_count": 15,
     "metadata": {},
     "output_type": "execute_result"
    }
   ],
   "source": [
    "df.head()"
   ]
  },
  {
   "cell_type": "markdown",
   "metadata": {
    "cell_id": "efc0261082174d33b15a3474f908f1fb",
    "deepnote_cell_type": "text-cell-h2",
    "formattedRanges": [],
    "is_collapsed": false,
    "tags": []
   },
   "source": [
    "## Visualizing the Data"
   ]
  },
  {
   "cell_type": "code",
   "execution_count": 28,
   "metadata": {
    "cell_id": "cf11c3620a864234a9736912a9175fbd",
    "deepnote_cell_type": "code",
    "deepnote_to_be_reexecuted": false,
    "execution_millis": 408,
    "execution_start": 1675296685252,
    "source_hash": "a5cecf1c",
    "tags": []
   },
   "outputs": [
    {
     "data": {
      "text/plain": [
       "<AxesSubplot:>"
      ]
     },
     "execution_count": 28,
     "metadata": {},
     "output_type": "execute_result"
    },
    {
     "data": {
      "image/png": "[encoded data removed]",
      "text/plain": [
       "<Figure size 432x288 with 2 Axes>"
      ]
     },
     "metadata": {
      "needs_background": "light"
     },
     "output_type": "display_data"
    }
   ],
   "source": [
    "sns.heatmap(df.corr())"
   ]
  },
  {
   "cell_type": "code",
   "execution_count": 29,
   "metadata": {
    "cell_id": "f85d22d04c1a4853adc352475b3565f3",
    "deepnote_cell_type": "code",
    "deepnote_to_be_reexecuted": false,
    "execution_millis": 2160,
    "execution_start": 1675296685708,
    "source_hash": "9da4f954",
    "tags": []
   },
   "outputs": [
    {
     "data": {
      "text/plain": [
       "<seaborn.axisgrid.PairGrid at 0x7f9823f56c50>"
      ]
     },
     "execution_count": 29,
     "metadata": {},
     "output_type": "execute_result"
    },
    {
     "data": {
      "image/png": "[encoded data removed]",
      "text/plain": [
       "<Figure size 417x360 with 6 Axes>"
      ]
     },
     "metadata": {
      "needs_background": "light"
     },
     "output_type": "display_data"
    }
   ],
   "source": [
    "sns.pairplot(data=df,\n",
    "             vars=['purse', 'sg_total'],\n",
    "             hue='made_cut')"
   ]
  },
  {
   "cell_type": "markdown",
   "metadata": {
    "cell_id": "fb1b35c43b2e43c680dc419037e8d2d6",
    "deepnote_cell_type": "text-cell-h2",
    "formattedRanges": [],
    "is_collapsed": false,
    "tags": []
   },
   "source": [
    "## Finding the Model"
   ]
  },
  {
   "cell_type": "code",
   "execution_count": 30,
   "metadata": {
    "cell_id": "c7af66a3ecf34da89e16ea38ab345078",
    "deepnote_cell_type": "code",
    "deepnote_to_be_reexecuted": false,
    "execution_millis": 3,
    "execution_start": 1675296687861,
    "source_hash": "bb48d01f",
    "tags": []
   },
   "outputs": [],
   "source": [
    "# Drop the date and player name for the model\n",
    "df = df.drop(columns=['player', 'date'])"
   ]
  },
  {
   "cell_type": "code",
   "execution_count": 31,
   "metadata": {
    "cell_id": "868b3d8e65e94ed3ba524ad9703bb09d",
    "deepnote_cell_type": "code",
    "deepnote_to_be_reexecuted": false,
    "execution_millis": 7,
    "execution_start": 1675296687866,
    "source_hash": "6ec4e444",
    "tags": []
   },
   "outputs": [],
   "source": [
    "sss = StratifiedShuffleSplit(n_splits=1, test_size=0.2, random_state=42)\n",
    "for train_index, test_index in sss.split(df, df['made_cut']):\n",
    "    training_set = df.loc[df.index.intersection(train_index)]\n",
    "    testing_set = df.loc[df.index.intersection(test_index)] "
   ]
  },
  {
   "cell_type": "code",
   "execution_count": 32,
   "metadata": {
    "cell_id": "ae896c9d2ce6405fb4e8fdebc2ed1378",
    "deepnote_cell_type": "code",
    "deepnote_to_be_reexecuted": false,
    "execution_millis": 1,
    "execution_start": 1675296687878,
    "source_hash": "4bbe73e2",
    "tags": []
   },
   "outputs": [],
   "source": [
    "X_train = training_set.drop('pos', axis=1)\n",
    "y_train = training_set['pos'].copy()\n",
    "X_test = testing_set.drop('pos', axis=1)\n",
    "y_test = testing_set['pos'].copy()"
   ]
  },
  {
   "cell_type": "code",
   "execution_count": 33,
   "metadata": {
    "cell_id": "3c716e2615144cc58972c76163318b3a",
    "deepnote_cell_type": "code",
    "deepnote_to_be_reexecuted": false,
    "execution_millis": 21,
    "execution_start": 1675296687881,
    "source_hash": "c79c0893",
    "tags": []
   },
   "outputs": [],
   "source": [
    "num_attribs = list(X_train.select_dtypes(include=[np.number]))\n",
    "cat_attribs = list(X_train.select_dtypes(exclude=[np.number]))\n",
    "\n",
    "full_pipeline = ColumnTransformer([\n",
    "        (\"num\", StandardScaler(), num_attribs),\n",
    "        (\"cat\", OneHotEncoder(), cat_attribs),\n",
    "    ])\n",
    "\n",
    "X_train_prepared = full_pipeline.fit_transform(X_train)\n",
    "X_test_prepared = full_pipeline.transform(X_test)"
   ]
  },
  {
   "cell_type": "code",
   "execution_count": 34,
   "metadata": {
    "cell_id": "c863c929f45441a0a840c7d18fe5419e",
    "deepnote_cell_type": "code",
    "deepnote_to_be_reexecuted": false,
    "execution_millis": 1,
    "execution_start": 1675296687948,
    "source_hash": "daa68825",
    "tags": []
   },
   "outputs": [],
   "source": [
    "# from https://scikit-learn.org/stable/auto_examples/classification/plot_classifier_comparison.html\n",
    "\n",
    "names = [\"Nearest Neighbors\", \"Linear SVM\", \"RBF SVM\",\n",
    "         \"Decision Tree\", \"Random Forest\", \"Neural Net\", \"AdaBoost\"]\n",
    "\n",
    "classifiers = [\n",
    "    KNeighborsClassifier(5),\n",
    "    SVC(kernel=\"linear\", C=0.025),\n",
    "    SVC(gamma=2, C=1),\n",
    "    DecisionTreeClassifier(max_depth=5),\n",
    "    RandomForestClassifier(max_depth=5, n_estimators=10, max_features=1),\n",
    "    MLPClassifier(alpha=1, max_iter=1000),\n",
    "    AdaBoostClassifier(),\n",
    "    ]"
   ]
  },
  {
   "cell_type": "code",
   "execution_count": 35,
   "metadata": {
    "cell_id": "8efc00855fd9421390ec34e2da5c1a4c",
    "deepnote_cell_type": "code",
    "deepnote_to_be_reexecuted": false,
    "execution_millis": 427733,
    "execution_start": 1675296768854,
    "source_hash": "5406046a",
    "tags": []
   },
   "outputs": [],
   "source": [
    "# for name, clf in zip(names, classifiers):\n",
    "#     clf.fit(X_train_prepared, y_train)\n",
    "#     y_pred = clf.predict(X_test_prepared)\n",
    "#     # evaluate predictions\n",
    "#     accuracy = clf.score(X_test_prepared, y_test)\n",
    "#     print(\"%s Accuracy: %.2f%%\" % (name, accuracy * 100.0))"
   ]
  },
  {
   "cell_type": "markdown",
   "metadata": {
    "cell_id": "03e2e3d29a30496f9176385ca13c6103",
    "deepnote_cell_type": "text-cell-h2",
    "formattedRanges": [],
    "is_collapsed": false,
    "tags": []
   },
   "source": [
    "## Training the Neural Net"
   ]
  },
  {
   "cell_type": "code",
   "execution_count": 20,
   "metadata": {
    "cell_id": "d942714e0b8a4e2bb3f09f5e145cba63",
    "deepnote_cell_type": "code",
    "deepnote_to_be_reexecuted": false,
    "execution_millis": 372260,
    "execution_start": 1675297614860,
    "source_hash": "200cced",
    "tags": []
   },
   "outputs": [],
   "source": [
    "clf = MLPClassifier(alpha=1, max_iter=1000)\n",
    "clf.fit(X_train_prepared, y_train)\n",
    "y_pred = clf.predict(X_test_prepared)"
   ]
  },
  {
   "cell_type": "code",
   "execution_count": 39,
   "metadata": {
    "cell_id": "7a6d0a78387746ee86f6d5fd1b271481",
    "deepnote_cell_type": "code",
    "deepnote_to_be_reexecuted": false,
    "execution_millis": 133,
    "execution_start": 1675298248347,
    "source_hash": "fdc47a3b",
    "tags": []
   },
   "outputs": [
    {
     "name": "stdout",
     "output_type": "stream",
     "text": [
      "Accuracy: 50.13%\n"
     ]
    }
   ],
   "source": [
    "accuracy = clf.score(X_test_prepared, y_test)\n",
    "print(f\"Accuracy: {round(accuracy*100, 2)}%\")"
   ]
  },
  {
   "cell_type": "code",
   "execution_count": 40,
   "metadata": {
    "cell_id": "de07e751cb7444af93fb961533f572ec",
    "deepnote_cell_type": "code",
    "deepnote_to_be_reexecuted": false,
    "execution_millis": 11,
    "execution_start": 1675298251204,
    "source_hash": "3fecc17",
    "tags": []
   },
   "outputs": [],
   "source": [
    "data = {'player_id': [], 'course' : [], 'season' : [], 'pos': []}\n",
    "for i, pred in enumerate(y_pred):\n",
    "    pId = X_test['player_id'].iloc[i]\n",
    "    course = X_test['course'].iloc[i]\n",
    "    season = X_test['season'].iloc[i]\n",
    "    data['player_id'].append(pId)\n",
    "    data['course'].append(course)\n",
    "    data['season'].append(season)\n",
    "    data['pos'].append(pred)"
   ]
  },
  {
   "cell_type": "code",
   "execution_count": 59,
   "metadata": {
    "cell_id": "c1adac20c6294bcb9452817e59c24943",
    "deepnote_cell_type": "code",
    "deepnote_to_be_reexecuted": false,
    "execution_millis": 3,
    "execution_start": 1675298716995,
    "source_hash": "29ab22fd",
    "tags": []
   },
   "outputs": [],
   "source": [
    "prediction_df = pd.DataFrame(data)\n",
    "prediction_df['player'] = prediction_df['player_id'].map(player_series)"
   ]
  },
  {
   "cell_type": "code",
   "execution_count": 60,
   "metadata": {
    "cell_id": "5b187f0aeced49f0b1072940de99653c",
    "deepnote_cell_type": "code",
    "deepnote_table_loading": false,
    "deepnote_table_state": {
     "filters": [],
     "pageIndex": 0,
     "pageSize": 10,
     "sortBy": [
      {
       "id": "pos",
       "type": "asc"
      }
     ]
    },
    "deepnote_to_be_reexecuted": false,
    "execution_millis": 55,
    "execution_start": 1675298721426,
    "source_hash": "2b5f7fc7",
    "tags": []
   },
   "outputs": [
    {
     "data": {
      "application/vnd.deepnote.dataframe.v3+json": {
       "column_count": 5,
       "columns": [
        {
         "dtype": "int64",
         "name": "player_id",
         "stats": {
          "histogram": [
           {
            "bin_end": 469207.7,
            "bin_start": 16,
            "count": 2146
           },
           {
            "bin_end": 938399.4,
            "bin_start": 469207.7,
            "count": 0
           },
           {
            "bin_end": 1407591.1,
            "bin_start": 938399.4,
            "count": 0
           },
           {
            "bin_end": 1876782.8,
            "bin_start": 1407591.1,
            "count": 0
           },
           {
            "bin_end": 2345974.5,
            "bin_start": 1876782.8,
            "count": 0
           },
           {
            "bin_end": 2815166.2,
            "bin_start": 2345974.5,
            "count": 0
           },
           {
            "bin_end": 3284357.9,
            "bin_start": 2815166.2,
            "count": 0
           },
           {
            "bin_end": 3753549.6,
            "bin_start": 3284357.9,
            "count": 0
           },
           {
            "bin_end": 4222741.3,
            "bin_start": 3753549.6,
            "count": 0
           },
           {
            "bin_end": 4691933,
            "bin_start": 4222741.3,
            "count": 92
           }
          ],
          "max": "4691933",
          "min": "16",
          "nan_count": 0,
          "unique_count": 335
         }
        },
        {
         "dtype": "object",
         "name": "course",
         "stats": {
          "categories": [
           {
            "count": 112,
            "name": "Muirfield Village Golf Club - Dublin, OH"
           },
           {
            "count": 96,
            "name": "Harbour Town Golf Links - Hilton Head Island, SC"
           },
           {
            "count": 2030,
            "name": "51 others"
           }
          ],
          "nan_count": 0,
          "unique_count": 53
         }
        },
        {
         "dtype": "int64",
         "name": "season",
         "stats": {
          "histogram": [
           {
            "bin_end": 2020.2,
            "bin_start": 2020,
            "count": 448
           },
           {
            "bin_end": 2020.4,
            "bin_start": 2020.2,
            "count": 0
           },
           {
            "bin_end": 2020.6,
            "bin_start": 2020.4,
            "count": 0
           },
           {
            "bin_end": 2020.8,
            "bin_start": 2020.6,
            "count": 0
           },
           {
            "bin_end": 2021,
            "bin_start": 2020.8,
            "count": 0
           },
           {
            "bin_end": 2021.2,
            "bin_start": 2021,
            "count": 947
           },
           {
            "bin_end": 2021.4,
            "bin_start": 2021.2,
            "count": 0
           },
           {
            "bin_end": 2021.6,
            "bin_start": 2021.4,
            "count": 0
           },
           {
            "bin_end": 2021.8,
            "bin_start": 2021.6,
            "count": 0
           },
           {
            "bin_end": 2022,
            "bin_start": 2021.8,
            "count": 843
           }
          ],
          "max": "2022",
          "min": "2020",
          "nan_count": 0,
          "unique_count": 3
         }
        },
        {
         "dtype": "float64",
         "name": "pos",
         "stats": {
          "histogram": [
           {
            "bin_end": 10.1,
            "bin_start": 2,
            "count": 204
           },
           {
            "bin_end": 18.2,
            "bin_start": 10.1,
            "count": 220
           },
           {
            "bin_end": 26.299999999999997,
            "bin_start": 18.2,
            "count": 82
           },
           {
            "bin_end": 34.4,
            "bin_start": 26.299999999999997,
            "count": 117
           },
           {
            "bin_end": 42.5,
            "bin_start": 34.4,
            "count": 123
           },
           {
            "bin_end": 50.599999999999994,
            "bin_start": 42.5,
            "count": 116
           },
           {
            "bin_end": 58.699999999999996,
            "bin_start": 50.599999999999994,
            "count": 63
           },
           {
            "bin_end": 66.8,
            "bin_start": 58.699999999999996,
            "count": 96
           },
           {
            "bin_end": 74.89999999999999,
            "bin_start": 66.8,
            "count": 786
           },
           {
            "bin_end": 83,
            "bin_start": 74.89999999999999,
            "count": 431
           }
          ],
          "max": "83.0",
          "min": "2.0",
          "nan_count": 0,
          "unique_count": 54
         }
        },
        {
         "dtype": "object",
         "name": "player",
         "stats": {
          "categories": [
           {
            "count": 22,
            "name": "Andrew Putnam"
           },
           {
            "count": 18,
            "name": "Dylan Frittelli"
           },
           {
            "count": 2198,
            "name": "333 others"
           }
          ],
          "nan_count": 0,
          "unique_count": 335
         }
        },
        {
         "dtype": "int64",
         "name": "_deepnote_index_column"
        }
       ],
       "row_count": 2238,
       "rows": [
        {
         "_deepnote_index_column": "597",
         "course": "Pebble Beach Resort - Pebble Beach, CA",
         "player": "Jordan Spieth",
         "player_id": "5467",
         "pos": "2.0",
         "season": "2022"
        },
        {
         "_deepnote_index_column": "1199",
         "course": "Kiawah Island Golf Resort - Kiawah Island, SC",
         "player": "Phil Mickelson",
         "player_id": "308",
         "pos": "2.0",
         "season": "2021"
        },
        {
         "_deepnote_index_column": "1573",
         "course": "Waialae CC - Honolulu, HI",
         "player": "Joaquin Niemann",
         "player_id": "11099",
         "pos": "2.0",
         "season": "2021"
        },
        {
         "_deepnote_index_column": "657",
         "course": "La Quinta CC - La Quinta, CA",
         "player": "Patton Kizzire",
         "player_id": "3980",
         "pos": "2.0",
         "season": "2022"
        },
        {
         "_deepnote_index_column": "1214",
         "course": "TPC Craig Ranch - McKinney, TX",
         "player": "Joseph Bramlett",
         "player_id": "5902",
         "pos": "2.0",
         "season": "2021"
        },
        {
         "_deepnote_index_column": "1564",
         "course": "Waialae CC - Honolulu, HI",
         "player": "Brendan Steele",
         "player_id": "3596",
         "pos": "2.0",
         "season": "2021"
        },
        {
         "_deepnote_index_column": "1224",
         "course": "TPC Craig Ranch - McKinney, TX",
         "player": "Kyoung-Hoon Lee",
         "player_id": "7083",
         "pos": "2.0",
         "season": "2021"
        },
        {
         "_deepnote_index_column": "674",
         "course": "Waialae CC - Honolulu, HI",
         "player": "Kevin Kisner",
         "player_id": "2552",
         "pos": "2.0",
         "season": "2022"
        },
        {
         "_deepnote_index_column": "1560",
         "course": "La Quinta CC - La Quinta, CA",
         "player": "Si Woo Kim",
         "player_id": "7081",
         "pos": "2.0",
         "season": "2021"
        },
        {
         "_deepnote_index_column": "1238",
         "course": "TPC Craig Ranch - McKinney, TX",
         "player": "Scott Stallings",
         "player_id": "3378",
         "pos": "2.0",
         "season": "2021"
        }
       ]
      },
      "text/html": [
       "<div>\n",
       "<style scoped>\n",
       "    .dataframe tbody tr th:only-of-type {\n",
       "        vertical-align: middle;\n",
       "    }\n",
       "\n",
       "    .dataframe tbody tr th {\n",
       "        vertical-align: top;\n",
       "    }\n",
       "\n",
       "    .dataframe thead th {\n",
       "        text-align: right;\n",
       "    }\n",
       "</style>\n",
       "<table border=\"1\" class=\"dataframe\">\n",
       "  <thead>\n",
       "    <tr style=\"text-align: right;\">\n",
       "      <th></th>\n",
       "      <th>player_id</th>\n",
       "      <th>course</th>\n",
       "      <th>season</th>\n",
       "      <th>pos</th>\n",
       "      <th>player</th>\n",
       "    </tr>\n",
       "  </thead>\n",
       "  <tbody>\n",
       "    <tr>\n",
       "      <th>0</th>\n",
       "      <td>3832</td>\n",
       "      <td>Wilmington Country Club - Wilmington, DE</td>\n",
       "      <td>2022</td>\n",
       "      <td>48.0</td>\n",
       "      <td>Alexander Noren</td>\n",
       "    </tr>\n",
       "    <tr>\n",
       "      <th>1</th>\n",
       "      <td>10058</td>\n",
       "      <td>Wilmington Country Club - Wilmington, DE</td>\n",
       "      <td>2022</td>\n",
       "      <td>48.0</td>\n",
       "      <td>Davis Riley</td>\n",
       "    </tr>\n",
       "    <tr>\n",
       "      <th>2</th>\n",
       "      <td>10166</td>\n",
       "      <td>Wilmington Country Club - Wilmington, DE</td>\n",
       "      <td>2022</td>\n",
       "      <td>35.0</td>\n",
       "      <td>J.J. Spaun</td>\n",
       "    </tr>\n",
       "    <tr>\n",
       "      <th>3</th>\n",
       "      <td>5467</td>\n",
       "      <td>Wilmington Country Club - Wilmington, DE</td>\n",
       "      <td>2022</td>\n",
       "      <td>28.0</td>\n",
       "      <td>Jordan Spieth</td>\n",
       "    </tr>\n",
       "    <tr>\n",
       "      <th>4</th>\n",
       "      <td>4848</td>\n",
       "      <td>Wilmington Country Club - Wilmington, DE</td>\n",
       "      <td>2022</td>\n",
       "      <td>48.0</td>\n",
       "      <td>Justin Thomas</td>\n",
       "    </tr>\n",
       "    <tr>\n",
       "      <th>...</th>\n",
       "      <td>...</td>\n",
       "      <td>...</td>\n",
       "      <td>...</td>\n",
       "      <td>...</td>\n",
       "      <td>...</td>\n",
       "    </tr>\n",
       "    <tr>\n",
       "      <th>2233</th>\n",
       "      <td>6151</td>\n",
       "      <td>Riviera Country Club - Pacific Palisades, CA</td>\n",
       "      <td>2020</td>\n",
       "      <td>51.0</td>\n",
       "      <td>Martin Trainer</td>\n",
       "    </tr>\n",
       "    <tr>\n",
       "      <th>2234</th>\n",
       "      <td>1600</td>\n",
       "      <td>Riviera Country Club - Pacific Palisades, CA</td>\n",
       "      <td>2020</td>\n",
       "      <td>75.0</td>\n",
       "      <td>Nate Lashley</td>\n",
       "    </tr>\n",
       "    <tr>\n",
       "      <th>2235</th>\n",
       "      <td>3792</td>\n",
       "      <td>Riviera Country Club - Pacific Palisades, CA</td>\n",
       "      <td>2020</td>\n",
       "      <td>75.0</td>\n",
       "      <td>Nick Taylor</td>\n",
       "    </tr>\n",
       "    <tr>\n",
       "      <th>2236</th>\n",
       "      <td>6007</td>\n",
       "      <td>Riviera Country Club - Pacific Palisades, CA</td>\n",
       "      <td>2020</td>\n",
       "      <td>18.0</td>\n",
       "      <td>Patrick Cantlay</td>\n",
       "    </tr>\n",
       "    <tr>\n",
       "      <th>2237</th>\n",
       "      <td>707</td>\n",
       "      <td>Riviera Country Club - Pacific Palisades, CA</td>\n",
       "      <td>2020</td>\n",
       "      <td>51.0</td>\n",
       "      <td>Pat Perez</td>\n",
       "    </tr>\n",
       "  </tbody>\n",
       "</table>\n",
       "<p>2238 rows × 5 columns</p>\n",
       "</div>"
      ],
      "text/plain": [
       "      player_id                                        course  season   pos  \\\n",
       "0          3832      Wilmington Country Club - Wilmington, DE    2022  48.0   \n",
       "1         10058      Wilmington Country Club - Wilmington, DE    2022  48.0   \n",
       "2         10166      Wilmington Country Club - Wilmington, DE    2022  35.0   \n",
       "3          5467      Wilmington Country Club - Wilmington, DE    2022  28.0   \n",
       "4          4848      Wilmington Country Club - Wilmington, DE    2022  48.0   \n",
       "...         ...                                           ...     ...   ...   \n",
       "2233       6151  Riviera Country Club - Pacific Palisades, CA    2020  51.0   \n",
       "2234       1600  Riviera Country Club - Pacific Palisades, CA    2020  75.0   \n",
       "2235       3792  Riviera Country Club - Pacific Palisades, CA    2020  75.0   \n",
       "2236       6007  Riviera Country Club - Pacific Palisades, CA    2020  18.0   \n",
       "2237        707  Riviera Country Club - Pacific Palisades, CA    2020  51.0   \n",
       "\n",
       "               player  \n",
       "0     Alexander Noren  \n",
       "1         Davis Riley  \n",
       "2          J.J. Spaun  \n",
       "3       Jordan Spieth  \n",
       "4       Justin Thomas  \n",
       "...               ...  \n",
       "2233   Martin Trainer  \n",
       "2234     Nate Lashley  \n",
       "2235      Nick Taylor  \n",
       "2236  Patrick Cantlay  \n",
       "2237        Pat Perez  \n",
       "\n",
       "[2238 rows x 5 columns]"
      ]
     },
     "execution_count": 61,
     "metadata": {},
     "output_type": "execute_result"
    }
   ],
   "source": [
    "prediction_df"
   ]
  },
  {
   "cell_type": "code",
   "execution_count": null,
   "metadata": {
    "cell_id": "a86f9640f6444ec2847cac4e2f5e592d",
    "deepnote_cell_type": "code",
    "tags": []
   },
   "outputs": [],
   "source": []
  }
 ],
 "metadata": {
  "deepnote": {},
  "deepnote_execution_queue": [],
  "deepnote_notebook_id": "25c3283800204420b863c8c14ef8e602",
  "kernelspec": {
   "display_name": "Python 3",
   "language": "python",
   "name": "python3"
  },
  "language_info": {
   "codemirror_mode": {
    "name": "ipython",
    "version": 3
   },
   "file_extension": ".py",
   "mimetype": "text/x-python",
   "name": "python",
   "nbconvert_exporter": "python",
   "pygments_lexer": "ipython3",
   "version": "3.7.13"
  }
 },
 "nbformat": 4,
 "nbformat_minor": 1
}
