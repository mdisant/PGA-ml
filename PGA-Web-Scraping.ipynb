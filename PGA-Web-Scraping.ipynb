{
 "cells": [
  {
   "cell_type": "markdown",
   "id": "c0ff3489",
   "metadata": {},
   "source": [
    "# Scraping Historical PGA Tour Data (2017-2022)\n",
    "#### Michael DiSanto"
   ]
  },
  {
   "cell_type": "code",
   "execution_count": 1,
   "id": "1df3963a",
   "metadata": {},
   "outputs": [],
   "source": [
    "import requests\n",
    "from bs4 import BeautifulSoup"
   ]
  },
  {
   "cell_type": "code",
   "execution_count": 4,
   "id": "87d0b03b",
   "metadata": {},
   "outputs": [
    {
     "name": "stdout",
     "output_type": "stream",
     "text": [
      "Could not find the season select element.\n"
     ]
    }
   ],
   "source": [
    "url = \"https://www.pgatour.com/stats/detail/02675\"\n",
    "\n",
    "# Send a GET request to the URL and store the response\n",
    "response = requests.get(url)\n",
    "\n",
    "# Parse the HTML content of the page\n",
    "soup = BeautifulSoup(response.content, \"html.parser\")\n",
    "\n",
    "# Find the select element with the season options\n",
    "season_select = soup.find(\"select\", id=\"menu-button-:rb:\")\n",
    "\n",
    "# Loop over the options to get the season and scrape the data for each season\n",
    "if season_select:\n",
    "    for option in season_select.find_all(\"option\"):\n",
    "        season = option[\"value\"]\n",
    "        if not season:\n",
    "            continue\n",
    "\n",
    "        # Send a GET request to the URL with the season parameter and store the response\n",
    "        response = requests.get(url, params={\"season\": season})\n",
    "\n",
    "        # Parse the HTML content of the page\n",
    "        soup = BeautifulSoup(response.content, \"html.parser\")\n",
    "\n",
    "        # Find the table with the stats\n",
    "        table = soup.find(\"table\")\n",
    "        if not table:\n",
    "            continue\n",
    "\n",
    "        # Find all the table rows (skip the first row with the header)\n",
    "        rows = table.find(\"tbody\").find_all(\"tr\")[1:]\n",
    "\n",
    "        # Extract the player name and Total SG:T values\n",
    "        for row in rows:\n",
    "            player_name = row.find(\"td\", class_=\"player-name\").text.strip()\n",
    "            sgt_value = row.find(\"td\", class_=\"total-sgt\").text.strip()\n",
    "            print(f\"Season: {season}, Player: {player_name}, Total SG:T: {sgt_value}\")\n",
    "else:\n",
    "    print(\"Could not find the season select element.\")\n"
   ]
  },
  {
   "cell_type": "code",
   "execution_count": null,
   "id": "2f4e1c94",
   "metadata": {},
   "outputs": [],
   "source": []
  },
  {
   "cell_type": "code",
   "execution_count": null,
   "id": "087ad33e",
   "metadata": {},
   "outputs": [],
   "source": []
  },
  {
   "cell_type": "code",
   "execution_count": null,
   "id": "257573ea",
   "metadata": {},
   "outputs": [],
   "source": []
  },
  {
   "cell_type": "code",
   "execution_count": null,
   "id": "e73fffb6",
   "metadata": {},
   "outputs": [],
   "source": []
  },
  {
   "cell_type": "code",
   "execution_count": null,
   "id": "9af61cad",
   "metadata": {},
   "outputs": [],
   "source": []
  },
  {
   "cell_type": "code",
   "execution_count": null,
   "id": "32c7c421",
   "metadata": {},
   "outputs": [],
   "source": [
    "# NOTES\n",
    "\n",
    "## Add {.y2021} to specify year (2021) before the .html"
   ]
  },
  {
   "cell_type": "code",
   "execution_count": 6,
   "id": "b74b4267",
   "metadata": {},
   "outputs": [],
   "source": [
    "# Data\n",
    "import pandas as pd\n",
    "import numpy as np\n",
    "\n",
    "# Web Scraping\n",
    "import requests\n",
    "from bs4 import BeautifulSoup"
   ]
  },
  {
   "cell_type": "code",
   "execution_count": null,
   "id": "2c339d10",
   "metadata": {},
   "outputs": [],
   "source": [
    "for i in range(0, 3000):\n",
    "    num = str(i)\n",
    "    if len(i) == 1:\n",
    "        num = \"00\" + str(i)\n",
    "    elif len(i) == 2:\n",
    "        https://www.pgatour.com/stats/detail/131\n",
    "    elif len(i) == 4:\n",
    "        https://www.pgatour.com/stats/detail/131\n",
    "        \n",
    "    base_url = f\"https://www.pgatour.com/stats/stat.{num}.html\"\n",
    "    \"https://www.pgatour.com/stats/detail/081\"\n",
    "    \n",
    "    "
   ]
  },
  {
   "cell_type": "code",
   "execution_count": null,
   "id": "e255539d",
   "metadata": {},
   "outputs": [],
   "source": []
  },
  {
   "cell_type": "markdown",
   "id": "5f9280ee",
   "metadata": {},
   "source": [
    "### Overview Statistics\n",
    "https://www.pgatour.com/stats.html"
   ]
  },
  {
   "cell_type": "code",
   "execution_count": null,
   "id": "e65ef875",
   "metadata": {},
   "outputs": [],
   "source": [
    "# FEDEXCUP STANDINGS - https://www.pgatour.com/stats/stat.02671.html\n",
    "# TOP 10 FINISHES - https://www.pgatour.com/stats/stat.138.html\n",
    "# SG: TEE-TO-GREEN - https://www.pgatour.com/stats/stat.02674.htmlx"
   ]
  },
  {
   "cell_type": "markdown",
   "id": "33218f0f",
   "metadata": {},
   "source": [
    "### Off the Tee Statistics\n",
    "https://www.pgatour.com/stats/categories.ROTT_INQ.html"
   ]
  },
  {
   "cell_type": "code",
   "execution_count": null,
   "id": "e72d4faa",
   "metadata": {},
   "outputs": [],
   "source": [
    "# STROKES GAINED:\n",
    "\n",
    "## SG: OFF-THE-TEE - https://www.pgatour.com/stats/stat.02567.html"
   ]
  },
  {
   "cell_type": "code",
   "execution_count": null,
   "id": "405c015f",
   "metadata": {},
   "outputs": [],
   "source": [
    "# DISTANCE (ALL DRIVES):\n",
    "\n",
    "## LONGEST DRIVES - https://www.pgatour.com/stats/stat.159.html\n",
    "## DRIVING DISTANCE - https://www.pgatour.com/stats/stat.101.html\n",
    "## DRIVING PCT. 320+ (MEASURED) - https://www.pgatour.com/stats/stat.496.html\n",
    "## DRIVING PCT. 300-320 (MEASURED) - https://www.pgatour.com/stats/stat.495.html\n",
    "## DRIVING PCT. 300+ (MEASURED) - https://www.pgatour.com/stats/stat.454.html\n",
    "## DRIVING PCT. 280-300 (MEASURED) - https://www.pgatour.com/stats/stat.455.html\n",
    "## DRIVING PCT. 260-280 (MEASURED) - https://www.pgatour.com/stats/stat.456.html\n",
    "## DRIVING PCT. 240-260 (MEASURED) - https://www.pgatour.com/stats/stat.457.html\n",
    "## DRIVING PCT. <= 240 (MEASURED) - https://www.pgatour.com/stats/stat.458.html\n",
    "## DRIVING DISTANCE - ALL DRIVES - https://www.pgatour.com/stats/stat.317.html\n",
    "## DRIVING PCT. 320+ (ALL DRIVES) - https://www.pgatour.com/stats/stat.02433.html\n",
    "## DRIVING PCT. 300-320 (ALL DRIVES) - https://www.pgatour.com/stats/stat.02432.html\n",
    "## DRIVING PCT. 300+ (ALL DRIVES) - https://www.pgatour.com/stats/stat.214.html\n",
    "## DRIVING PCT. 280-300 (ALL DRIVES) - https://www.pgatour.com/stats/stat.215.html\n",
    "## DRIVING PCT. 260-280 (ALL DRIVES) - https://www.pgatour.com/stats/stat.216.html\n",
    "## DRIVING PCT. 240-260 (ALL DRIVES) - https://www.pgatour.com/stats/stat.217.html\n",
    "## DRIVING PCT. <= 240 (ALL DRIVES) - https://www.pgatour.com/stats/stat.218.html\n",
    "## PERCENTAGE OF YARDAGE COVERED BY TEE SHOTS - https://www.pgatour.com/stats/stat.02341.html\n",
    "## PERCENTAGE OF YARDAGE COVERED BY TEE SHOTS - PAR 4'S - https://www.pgatour.com/stats/stat.02342.html\n",
    "## PERCENTAGE OF YARDAGE COVERED BY TEE SHOTS - PAR 5'S - https://www.pgatour.com/stats/stat.02343.html"
   ]
  },
  {
   "cell_type": "code",
   "execution_count": null,
   "id": "41681f1e",
   "metadata": {},
   "outputs": [],
   "source": [
    "# ACCURACY:\n",
    "\n",
    "## DRIVING ACCURACY PERCENTAGE - https://www.pgatour.com/stats/stat.102.html\n",
    "## ROUGH TENDENCY - https://www.pgatour.com/stats/stat.02435.html\n",
    "## LEFT ROUGH TENDENCY - https://www.pgatour.com/stats/stat.459.html\n",
    "## RIGHT ROUGH TENDENCY - https://www.pgatour.com/stats/stat.460.html\n",
    "## RIGHT ROUGH TENDENCY (RTP SCORE) - https://www.pgatour.com/stats/stat.080.html\n",
    "## LEFT ROUGH TENDENCY (RTP SCORE) - https://www.pgatour.com/stats/stat.081.html\n",
    "## FAIRWAY BUNKER TENDENCY - https://www.pgatour.com/stats/stat.01008.html\n",
    "## MISSED FAIRWAY PERCENT - OTHER - https://www.pgatour.com/stats/stat.461.html\n",
    "## HIT FAIRWAY PERCENTAGE - https://www.pgatour.com/stats/stat.213.html\n",
    "## DISTANCE FROM EDGE OF FAIRWAY - https://www.pgatour.com/stats/stat.02420.html\n",
    "## DISTANCE FROM CENTER OF FAIRWAY - https://www.pgatour.com/stats/stat.02421.html\n",
    "## LEFT TENDENCY - https://www.pgatour.com/stats/stat.02422.html\n",
    "## RIGHT TENDENCY - https://www.pgatour.com/stats/stat.02423.html\n",
    "## GOOD DRIVE PERCENTAGE - https://www.pgatour.com/stats/stat.02438.html"
   ]
  },
  {
   "cell_type": "code",
   "execution_count": null,
   "id": "1e10d9f3",
   "metadata": {},
   "outputs": [],
   "source": [
    "# OTHER:\n",
    "\n",
    "## TOTAL DRIVING - https://www.pgatour.com/stats/stat.129.html \n",
    "## BALL STRIKING - https://www.pgatour.com/stats/stat.158.html"
   ]
  },
  {
   "cell_type": "code",
   "execution_count": null,
   "id": "30eb94d3",
   "metadata": {},
   "outputs": [],
   "source": [
    "# RADAR:\n",
    "\n",
    "## CLUB HEAD SPEED - https://www.pgatour.com/stats/stat.02401.html\n",
    "## BALL SPEED - https://www.pgatour.com/stats/stat.02402.html\n",
    "## SMASH FACTOR - https://www.pgatour.com/stats/stat.02403.html\n",
    "## LAUNCH ANGLE - https://www.pgatour.com/stats/stat.02404.html\n",
    "## SPIN RATE - https://www.pgatour.com/stats/stat.02405.html\n",
    "## DISTANCE TO APEX - https://www.pgatour.com/stats/stat.02406.html\n",
    "## APEX HEIGHT - https://www.pgatour.com/stats/stat.02407.html\n",
    "## HANG TIME - https://www.pgatour.com/stats/stat.02408.html\n",
    "## CARRY DISTANCE - https://www.pgatour.com/stats/stat.02409.html\n",
    "## CARRY EFFICIENCY - https://www.pgatour.com/stats/stat.02410.html\n",
    "## TOTAL DISTANCE EFFICIENCY - https://www.pgatour.com/stats/stat.02411.html\n",
    "## TOTAL DRIVING EFFICIENCY - https://www.pgatour.com/stats/stat.02412.html"
   ]
  },
  {
   "cell_type": "markdown",
   "id": "aba70067",
   "metadata": {},
   "source": [
    "### Approach the Green Statistics\n",
    "https://www.pgatour.com/stats/categories.RAPP_INQ.html"
   ]
  },
  {
   "cell_type": "code",
   "execution_count": null,
   "id": "b3d318e7",
   "metadata": {},
   "outputs": [],
   "source": [
    "# STROKES GAINED:\n",
    "\n",
    "## SG: APPROACH THE GREEN - https://www.pgatour.com/stats/stat.02568.html"
   ]
  },
  {
   "cell_type": "code",
   "execution_count": null,
   "id": "7e9f43fc",
   "metadata": {},
   "outputs": [],
   "source": [
    "# GREENS IN REGULATION:\n",
    "\n",
    "## GREENS IN REGULATION PERCENTAGE - https://www.pgatour.com/stats/stat.103.html\n",
    "## GREENS OR FRINGE IN REGULATION - https://www.pgatour.com/stats/stat.02437.html\n",
    "## GIR PERCENTAGE - 200+ YARDS - https://www.pgatour.com/stats/stat.326.html\n",
    "## GIR PERCENTAGE - 175-200 YARDS - https://www.pgatour.com/stats/stat.327.html\n",
    "## GIR PERCENTAGE - 150-175 YARDS - https://www.pgatour.com/stats/stat.328.html\n",
    "## GIR PERCENTAGE - 125-150 YARDS - https://www.pgatour.com/stats/stat.329.html\n",
    "## GIR PERCENTAGE - < 125 YARDS - https://www.pgatour.com/stats/stat.330.html\n",
    "## GIR PERCENTAGE - 100-125 YARDS - https://www.pgatour.com/stats/stat.077.html\n",
    "## GIR PERCENTAGE - 100+ YARDS - https://www.pgatour.com/stats/stat.02332.html\n",
    "## GIR PERCENTAGE - < 100 YARDS - https://www.pgatour.com/stats/stat.02330.html\n",
    "## GIR PERCENTAGE - 75-100 YARDS - https://www.pgatour.com/stats/stat.078.html\n",
    "## GIR PERCENTAGE - < 75 YARDS - https://www.pgatour.com/stats/stat.079.html\n",
    "## GIR PERCENTAGE FROM FAIRWAY - https://www.pgatour.com/stats/stat.190.html\n",
    "## GIR PCT. - FAIRWAY BUNKER - https://www.pgatour.com/stats/stat.02434.html\n",
    "## GIR PERCENTAGE FROM OTHER THAN FAIRWAY - https://www.pgatour.com/stats/stat.199.html"
   ]
  },
  {
   "cell_type": "code",
   "execution_count": null,
   "id": "466896f2",
   "metadata": {},
   "outputs": [],
   "source": [
    "# ACCURACY FROM FAIRWAY:\n",
    "\n",
    "## PROXIMITY TO HOLE - https://www.pgatour.com/stats/stat.331.html\n",
    "## APPROACHES FROM > 275 YARDS - https://www.pgatour.com/stats/stat.02361.html\n",
    "## APPROACHES FROM 250-275 YARDS - https://www.pgatour.com/stats/stat.02360.html\n",
    "## APPROACHES FROM 225-250 YARDS - https://www.pgatour.com/stats/stat.02359.html\n",
    "## APPROACHES FROM 200-225 YARDS - https://www.pgatour.com/stats/stat.02358.html\n",
    "## APPROACHES FROM > 200 YARDS - https://www.pgatour.com/stats/stat.336.html\n",
    "## APPROACHES FROM 175-200 YARDS - https://www.pgatour.com/stats/stat.337.html\n",
    "## APPROACHES FROM 150-175 YARDS - https://www.pgatour.com/stats/stat.338.html\n",
    "## APPROACHES FROM 125-150 YARDS - https://www.pgatour.com/stats/stat.339.html\n",
    "## APPROACHES FROM 50-125 YARDS - https://www.pgatour.com/stats/stat.340.html\n",
    "## APPROACHES FROM 100-125 YARDS - https://www.pgatour.com/stats/stat.074.html\n",
    "## APPROACHES FROM 75-100 YARDS - https://www.pgatour.com/stats/stat.075.html\n",
    "## APPROACHES FROM 50-75 YARDS - https://www.pgatour.com/stats/stat.076.html\n",
    "## APPROACHES FROM INSIDE 100 YARDS - https://www.pgatour.com/stats/stat.02329.html\n",
    "## APPROACHES FROM > 100 YARDS - https://www.pgatour.com/stats/stat.02331.html\n",
    "## FAIRWAY PROXIMITY - https://www.pgatour.com/stats/stat.431.html"
   ]
  },
  {
   "cell_type": "code",
   "execution_count": null,
   "id": "90943223",
   "metadata": {},
   "outputs": [],
   "source": [
    "# ACCURACY FROM ROUGH:\n",
    "\n",
    "# APPROACHES FROM > 275 YARDS (RGH) - https://www.pgatour.com/stats/stat.02375.html\n",
    "# APPROACHES FROM 250-275 YARDS (RGH) - https://www.pgatour.com/stats/stat.02374.html\n",
    "# APPROACHES FROM 225-250 YARDS (RGH) - https://www.pgatour.com/stats/stat.02373.html\n",
    "# APPROACHES FROM 200-225 YARDS (RGH) - https://www.pgatour.com/stats/stat.02372.html\n",
    "# APPROACHES FROM > 100 YARDS (RGH) - https://www.pgatour.com/stats/stat.02371.html\n",
    "# APPROACHES FROM INSIDE 100 YARDS (RGH) - https://www.pgatour.com/stats/stat.02370.html\n",
    "# APPROACHES FROM > 200 YARDS (RGH) - https://www.pgatour.com/stats/stat.02369.html\n",
    "# APPROACHES FROM 175-200 YARDS (RGH) - https://www.pgatour.com/stats/stat.02368.html\n",
    "# APPROACHES FROM 150-175 YARDS (RGH) - https://www.pgatour.com/stats/stat.02367.html\n",
    "# APPROACHES FROM 125-150 YARDS (RGH) - https://www.pgatour.com/stats/stat.02366.html\n",
    "# APPROACHES FROM 50-125 YARDS (RGH) - https://www.pgatour.com/stats/stat.02365.html\n",
    "# APPROACHES FROM 100-125 YARDS (RGH) - https://www.pgatour.com/stats/stat.02364.html\n",
    "# APPROACHES FROM 75-100 YARDS (RGH) - https://www.pgatour.com/stats/stat.02363.html\n",
    "# APPROACHES FROM 50-75 YARDS (RGH) - https://www.pgatour.com/stats/stat.02362.html\n",
    "# ROUGH PROXIMITY - https://www.pgatour.com/stats/stat.437.html\n",
    "# LEFT ROUGH PROXIMITY - https://www.pgatour.com/stats/stat.432.html\n",
    "# RIGHT ROUGH PROXIMITY - https://www.pgatour.com/stats/stat.433.html"
   ]
  },
  {
   "cell_type": "code",
   "execution_count": null,
   "id": "e7ddcb54",
   "metadata": {},
   "outputs": [],
   "source": [
    "# SCORING:\n",
    "\n",
    "# BIRDIE OR BETTER PERCENTAGE - FAIRWAY - https://www.pgatour.com/stats/stat.02333.html\n",
    "# BIRDIE OR BETTER PERCENTAGE - LEFT ROUGH - https://www.pgatour.com/stats/stat.02334.html\n",
    "# BIRDIE OR BETTER PERCENTAGE - RIGHT ROUGH - https://www.pgatour.com/stats/stat.02335.html\n",
    "# BIRDIE OR BETTER PERCENTAGE - ROUGH - https://www.pgatour.com/stats/stat.02336.html\n",
    "# BIRDIE OR BETTER PERCENTAGE - 200+ YARDS - https://www.pgatour.com/stats/stat.357.html\n",
    "# BIRDIE OR BETTER PERCENTAGE - 175-200 YARDS - https://www.pgatour.com/stats/stat.358.html\n",
    "# BIRDIE OR BETTER PERCENTAGE - 150-175 YARDS - https://www.pgatour.com/stats/stat.359.html\n",
    "# BIRDIE OR BETTER PERCENTAGE - 125-150 YARDS - https://www.pgatour.com/stats/stat.360.html\n",
    "# BIRDIE OR BETTER PERCENTAGE - < 125 YARDS - https://www.pgatour.com/stats/stat.361.html\n",
    "# APPROACH > 275 YARDS (RTP) - https://www.pgatour.com/stats/stat.02379.html\n",
    "# APPROACH 250-275 YARDS (RTP) - https://www.pgatour.com/stats/stat.02378.html\n",
    "# APPROACH 225-250 YARDS (RTP) - https://www.pgatour.com/stats/stat.02377.html\n",
    "# APPROACH 200-225 YARDS (RTP) - https://www.pgatour.com/stats/stat.02376.html\n",
    "# APPROACH > 200 YARDS (RTP SCORE) - https://www.pgatour.com/stats/stat.480.html\n",
    "# APPROACH 175-200 YARDS (RTP SCORE) -  https://www.pgatour.com/stats/stat.479.html\n",
    "# APPROACH 150-175 YARDS (RTP SCORE) - https://www.pgatour.com/stats/stat.478.html\n",
    "# APPROACH 125-150 YARDS (RTP SCORE) - https://www.pgatour.com/stats/stat.473.html\n",
    "# APPROACH < 125 YARDS (RTP SCORE) - https://www.pgatour.com/stats/stat.472.html\n",
    "# APPROACH 100-125 YARDS (RTP SCORE) - https://www.pgatour.com/stats/stat.028.html\n",
    "# APPROACH 75-100 YARDS (RTP SCORE) - https://www.pgatour.com/stats/stat.029.html\n",
    "# APPROACH 50-75 YARDS (RTP SCORE) - https://www.pgatour.com/stats/stat.030.html\n",
    "# APPROACHES 50-75 YARDS-RGH (RTP) - https://www.pgatour.com/stats/stat.02380.html\n",
    "# APPROACHES 75-100 YARDS-RGH (RTP) - https://www.pgatour.com/stats/stat.02381.html\n",
    "# APPROACHES 100-125 YARDS-RGH (RTP) - https://www.pgatour.com/stats/stat.02382.html\n",
    "# APPROACHES 50-125 YARDS-RGH (RTP) - https://www.pgatour.com/stats/stat.02383.html\n",
    "# APPROACHES 125-150 YARDS-RGH (RTP) - https://www.pgatour.com/stats/stat.02384.html\n",
    "# APPROACHES 150-175 YARDS-RGH (RTP) - https://www.pgatour.com/stats/stat.02385.html\n",
    "# APPROACHES 175-200 YARDS-RGH (RTP) - https://www.pgatour.com/stats/stat.02386.html\n",
    "# APPROACHES > 200 YARDS-RGH (RTP) - https://www.pgatour.com/stats/stat.02387.html\n",
    "# APPROACHES < 100 YARDS-RGH (RTP) - https://www.pgatour.com/stats/stat.02388.html\n",
    "# APPROACHES > 100 YARDS-RGH (RTP) - https://www.pgatour.com/stats/stat.02389.html\n",
    "# APPROACHES 200-225 YARDS-RGH (RTP) - https://www.pgatour.com/stats/stat.02390.html\n",
    "# APPROACHES 225-250 YARDS-RGH (RTP) - https://www.pgatour.com/stats/stat.02391.html\n",
    "# APPROACHES 250-275 YARDS-RGH (RTP) - https://www.pgatour.com/stats/stat.02392.html\n",
    "# APPROACHES > 275 YARDS-RGH (RTP) - https://www.pgatour.com/stats/stat.02393.html\n",
    "# APPROACHES LEFT ROUGH (RTP SCORE) - https://www.pgatour.com/stats/stat.469.html\n",
    "# APPROACHES RIGHT ROUGH (RTP SCORE) - https://www.pgatour.com/stats/stat.470.html\n",
    "# FAIRWAY APPROACH (RTP SCORE) - https://www.pgatour.com/stats/stat.471.html"
   ]
  },
  {
   "cell_type": "code",
   "execution_count": null,
   "id": "f201cda5",
   "metadata": {},
   "outputs": [],
   "source": [
    "# GOING FOR IT:\n",
    "\n",
    "## GOING FOR THE GREEN - https://www.pgatour.com/stats/stat.419.html\n",
    "## GOING FOR THE GREEN - HIT GREEN PCT. - https://www.pgatour.com/stats/stat.486.html\n",
    "## GOING FOR THE GREEN - BIRDIE OR BETTER - https://www.pgatour.com/stats/stat.02357.html\n",
    "## PAR 5 GOING FOR THE GREEN - https://www.pgatour.com/stats/stat.436.html\n",
    "## AVERAGE GOING FOR IT SHOT DISTANCE (IN YARDS) - https://www.pgatour.com/stats/stat.02426.html\n",
    "## AVERAGE DISTANCE AFTER GOING FOR IT SHOT - https://www.pgatour.com/stats/stat.02431.html"
   ]
  },
  {
   "cell_type": "code",
   "execution_count": null,
   "id": "3a4e6cb3",
   "metadata": {},
   "outputs": [],
   "source": [
    "# HOLEOUTS, OTHER:\n",
    "\n",
    "## TOTAL HOLE OUTS - https://www.pgatour.com/stats/stat.350.html\n",
    "## LONGEST HOLE OUTS (IN YARDS) - https://www.pgatour.com/stats/stat.351.html\n",
    "## AVERAGE APPROACH SHOT DISTANCE - https://www.pgatour.com/stats/stat.02325.html\n",
    "## AVERAGE APPROACH DISTANCE - BIRDIE OR BETTER - https://www.pgatour.com/stats/stat.02338.html\n",
    "## AVERAGE APPROACH DISTANCE - PAR - https://www.pgatour.com/stats/stat.02339.html\n",
    "## AVERAGE APPROACH DISTANCE - BOGEY OR WORSE - https://www.pgatour.com/stats/stat.02340.html\n",
    "## AVERAGE DISTANCE TO HOLE AFTER TEE SHOT - https://www.pgatour.com/stats/stat.02430.html"
   ]
  },
  {
   "cell_type": "markdown",
   "id": "b6b61fc8",
   "metadata": {},
   "source": [
    "### Around the Green Statistics\n",
    "https://www.pgatour.com/stats/categories.RARG_INQ.html"
   ]
  },
  {
   "cell_type": "code",
   "execution_count": null,
   "id": "8e849535",
   "metadata": {},
   "outputs": [],
   "source": [
    "# STOKES GAINED:\n",
    "\n",
    "## SG: AROUND-THE-GREEN - https://www.pgatour.com/stats/stat.02569.html"
   ]
  },
  {
   "cell_type": "code",
   "execution_count": null,
   "id": "902c5a47",
   "metadata": {},
   "outputs": [],
   "source": [
    "# UP AND DOWN:\n",
    "\n",
    "## SAND SAVE PERCENTAGE - https://www.pgatour.com/stats/stat.111.html\n",
    "## SAND SAVES FROM 30+ YARDS - https://www.pgatour.com/stats/stat.370.html\n",
    "## SAND SAVES FROM 20-30 YARDS - https://www.pgatour.com/stats/stat.371.html\n",
    "## SAND SAVES FROM 10-20 YARDS - https://www.pgatour.com/stats/stat.372.html\n",
    "## SAND SAVES FROM < 10 YARDS - https://www.pgatour.com/stats/stat.373.html\n",
    "## SCRAMBLING - https://www.pgatour.com/stats/stat.130.html\n",
    "## SCRAMBLING FROM THE SAND - https://www.pgatour.com/stats/stat.362.html\n",
    "## SCRAMBLING FROM THE ROUGH - https://www.pgatour.com/stats/stat.363.html\n",
    "## SCRAMBLING FROM THE FRINGE - https://www.pgatour.com/stats/stat.364.html\n",
    "## SCRAMBLING FROM OTHER LOCATIONS - https://www.pgatour.com/stats/stat.365.html\n",
    "## SCRAMBLING FROM > 30 YARDS - https://www.pgatour.com/stats/stat.366.html\n",
    "## SCRAMBLING FROM 20-30 YARDS - https://www.pgatour.com/stats/stat.367.html\n",
    "## SCRAMBLING FROM 10-20 YARDS - https://www.pgatour.com/stats/stat.368.html\n",
    "## SCRAMBLING FROM < 10 YARDS - https://www.pgatour.com/stats/stat.369.html"
   ]
  },
  {
   "cell_type": "code",
   "execution_count": null,
   "id": "bafb4ed7",
   "metadata": {},
   "outputs": [],
   "source": [
    "# ACCURACY:\n",
    "\n",
    "## PROXIMITY TO HOLE (ARG) - https://www.pgatour.com/stats/stat.374.html\n",
    "## PROXIMITY TO HOLE FROM SAND - https://www.pgatour.com/stats/stat.375.html\n",
    "## PROXIMITY TO HOLE FROM FRINGE - https://www.pgatour.com/stats/stat.377.html\n",
    "## PROXIMITY TO HOLE FROM ROUGH - https://www.pgatour.com/stats/stat.376.html\n",
    "## PROXIMITY TO HOLE FROM OTHER LOCATIONS - https://www.pgatour.com/stats/stat.378.html\n",
    "## PROXIMITY TO HOLE FROM 30+ YARDS - https://www.pgatour.com/stats/stat.379.html\n",
    "## PROXIMITY TO HOLE FROM 20-30 YARDS - https://www.pgatour.com/stats/stat.380.html\n",
    "## PROXIMITY TO HOLE FROM 10-20 YARDS - https://www.pgatour.com/stats/stat.381.html\n",
    "## PROXIMITY TO HOLE FROM < 10 YARDS - https://www.pgatour.com/stats/stat.382.html\n",
    "## SCRAMBLING AVERAGE DISTANCE TO HOLE - https://www.pgatour.com/stats/stat.481.html"
   ]
  },
  {
   "cell_type": "code",
   "execution_count": 2,
   "id": "51bb060d",
   "metadata": {},
   "outputs": [],
   "source": [
    "# SCORING:\n",
    "\n",
    "## SCRAMBLING > 30 YDS (RTP SCORE) - https://www.pgatour.com/stats/stat.466.html\n",
    "## SCRAMBLING 20-30 YDS (RTP SCORE) - https://www.pgatour.com/stats/stat.467.html\n",
    "## SCRAMBLING 10-20 YDS (RTP SCORE) - https://www.pgatour.com/stats/stat.468.html\n",
    "## SCRAMBLING FRINGE (RTP SCORE) - https://www.pgatour.com/stats/stat.465.html\n",
    "## SCRAMBLING ROUGH (RTP SCORE) - https://www.pgatour.com/stats/stat.464.html"
   ]
  },
  {
   "cell_type": "markdown",
   "id": "f337f25d",
   "metadata": {},
   "source": [
    "### Putting Statistics\n",
    "https://www.pgatour.com/stats/categories.RPUT_INQ.html"
   ]
  },
  {
   "cell_type": "code",
   "execution_count": null,
   "id": "95c49b9a",
   "metadata": {},
   "outputs": [],
   "source": [
    "# STROKES GAINED:\n",
    "\n",
    "## SG: PUTTING - https://www.pgatour.com/stats/stat.02564.html"
   ]
  },
  {
   "cell_type": "code",
   "execution_count": null,
   "id": "b6e2e76d",
   "metadata": {},
   "outputs": [],
   "source": [
    "# ONE-PUTTS:\n",
    "\n",
    "## ONE-PUTT PERCENTAGE  - https://www.pgatour.com/stats/stat.413.html\n",
    "## ONE-PUTT PERCENTAGE - ROUND 1 - https://www.pgatour.com/stats/stat.414.html\n",
    "## ONE-PUTT PERCENTAGE - ROUND 2 - https://www.pgatour.com/stats/stat.415.html\n",
    "## ONE-PUTT PERCENTAGE - ROUND 3 - https://www.pgatour.com/stats/stat.416.html\n",
    "## ONE-PUTT PERCENTAGE - ROUND 4 - https://www.pgatour.com/stats/stat.417.html\n",
    "## ONE-PUTT PERCENTAGE - ROUND 5 - https://www.pgatour.com/stats/stat.418.html\n",
    "## TOTAL 1 PUTTS - INSIDE 5' - https://www.pgatour.com/stats/stat.420.html\n",
    "## TOTAL 1 PUTTS - 5-10' - https://www.pgatour.com/stats/stat.421.html\n",
    "## TOTAL 1 PUTTS - 10-15' - https://www.pgatour.com/stats/stat.422.html\n",
    "## TOTAL 1 PUTTS - 15-20' - https://www.pgatour.com/stats/stat.423.html\n",
    "## TOTAL 1 PUTTS - 20-25' - https://www.pgatour.com/stats/stat.424.html\n",
    "## TOTAL 1 PUTTS - > 25' - https://www.pgatour.com/stats/stat.425.html\n",
    "## 1-PUTTS PER ROUND - https://www.pgatour.com/stats/stat.398.html\n",
    "## LONGEST PUTTS - https://www.pgatour.com/stats/stat.498.html"
   ]
  },
  {
   "cell_type": "code",
   "execution_count": null,
   "id": "d4c2b9b3",
   "metadata": {},
   "outputs": [],
   "source": [
    "# THREE-PUTTS:\n",
    "\n",
    "# 3-PUTT AVOIDANCE - https://www.pgatour.com/stats/stat.426.html\n",
    "# 3-PUTT AVOIDANCE - ROUND 1 - https://www.pgatour.com/stats/stat.427.html\n",
    "# 3-PUTT AVOIDANCE - ROUND 2 - https://www.pgatour.com/stats/stat.428.html\n",
    "# 3-PUTT AVOIDANCE - ROUND 3 - https://www.pgatour.com/stats/stat.429.html\n",
    "# 3-PUTT AVOIDANCE - ROUND 4 - https://www.pgatour.com/stats/stat.430.html\n",
    "# 3-PUTT AVOIDANCE - ROUND 5 - https://www.pgatour.com/stats/stat.440.html\n",
    "# 3-PUTT AVOIDANCE - INSIDE 5' - https://www.pgatour.com/stats/stat.068.html\n",
    "# 3-PUTT AVOIDANCE - 5-10' - https://www.pgatour.com/stats/stat.069.html\n",
    "# 3-PUTT AVOIDANCE - 10-15' - https://www.pgatour.com/stats/stat.070.html\n",
    "# 3-PUTT AVOIDANCE - 15-20' - https://www.pgatour.com/stats/stat.145.html\n",
    "# 3-PUTT AVOIDANCE - 20-25' - https://www.pgatour.com/stats/stat.146.html\n",
    "# 3-PUTT AVOIDANCE > 25' - https://www.pgatour.com/stats/stat.147.html\n",
    "# TOTAL 3 PUTTS - INSIDE 5' - https://www.pgatour.com/stats/stat.441.html\n",
    "# TOTAL 3 PUTTS - 5-10' - https://www.pgatour.com/stats/stat.442.html\n",
    "# TOTAL 3 PUTTS - 10-15' - https://www.pgatour.com/stats/stat.443.html\n",
    "# TOTAL 3 PUTTS - 15-20' - https://www.pgatour.com/stats/stat.444.html\n",
    "# TOTAL 3 PUTTS - 20-25' - https://www.pgatour.com/stats/stat.445.html\n",
    "# TOTAL 3 PUTTS - > 25' - https://www.pgatour.com/stats/stat.446.html\n",
    "# 3-PUTTS PER ROUND - https://www.pgatour.com/stats/stat.400.html\n",
    "# 3+ PUTTS PER ROUND - https://www.pgatour.com/stats/stat.401.html"
   ]
  },
  {
   "cell_type": "code",
   "execution_count": null,
   "id": "6cde9fb4",
   "metadata": {},
   "outputs": [],
   "source": [
    "# ALL PUTTS MADE BY DIST.:\n",
    "\n",
    "# PUTTING FROM - > 25' - https://www.pgatour.com/stats/stat.408.html\n",
    "# PUTTING FROM - > 20' - https://www.pgatour.com/stats/stat.02429.html\n",
    "# PUTTING FROM 15-25' - https://www.pgatour.com/stats/stat.02328.html\n",
    "# PUTTING FROM - 20-25' - https://www.pgatour.com/stats/stat.407.html\n",
    "# PUTTING FROM - 15-20' - https://www.pgatour.com/stats/stat.406.html\n",
    "# PUTTING FROM 5-15' - https://www.pgatour.com/stats/stat.02327.html\n",
    "# PUTTING FROM - 10-15' - https://www.pgatour.com/stats/stat.405.html\n",
    "# PUTTING - INSIDE 10' - https://www.pgatour.com/stats/stat.484.html\n",
    "# PUTTING FROM 5-10' - https://www.pgatour.com/stats/stat.404.html\n",
    "# PUTTING FROM 3-5' - https://www.pgatour.com/stats/stat.02427.html\n",
    "# PUTTING FROM INSIDE 5' - https://www.pgatour.com/stats/stat.403.html\n",
    "# PUTTING FROM 10' - https://www.pgatour.com/stats/stat.348.html\n",
    "# PUTTING FROM 9' - https://www.pgatour.com/stats/stat.347.html\n",
    "# PUTTING FROM 8' - https://www.pgatour.com/stats/stat.346.html\n",
    "# PUTTING FROM 7' - https://www.pgatour.com/stats/stat.345.html\n",
    "# PUTTING FROM 6' - https://www.pgatour.com/stats/stat.344.html\n",
    "# PUTTING FROM 5' - https://www.pgatour.com/stats/stat.343.html\n",
    "# PUTTING FROM - > 10' - https://www.pgatour.com/stats/stat.356.html\n",
    "# PUTTING FROM 4-8' - https://www.pgatour.com/stats/stat.485.html\n",
    "# PUTTING FROM 4' - https://www.pgatour.com/stats/stat.342.html\n",
    "# PUTTING FROM 3' - https://www.pgatour.com/stats/stat.341.html\n",
    "# PUTTS MADE PER EVENT OVER 10' - https://www.pgatour.com/stats/stat.434.html\n",
    "# PUTTS MADE PER EVENT OVER 20' - https://www.pgatour.com/stats/stat.435.html"
   ]
  },
  {
   "cell_type": "code",
   "execution_count": null,
   "id": "b3de6747",
   "metadata": {},
   "outputs": [],
   "source": [
    "# GIR PUTTS MADE BY DIST.:\n",
    "\n",
    "# GIR PUTTING AVG - > 35' - https://www.pgatour.com/stats/stat.073.html\n",
    "# GIR PUTTING AVG - 30-35' - https://www.pgatour.com/stats/stat.072.html\n",
    "# GIR PUTTING AVG - 25-30' - https://www.pgatour.com/stats/stat.071.html\n",
    "# GIR PUTTING - > 25' - https://www.pgatour.com/stats/stat.388.html\n",
    "# GIR PUTTING - 20-25' - https://www.pgatour.com/stats/stat.387.html\n",
    "# GIR PUTTING - 15-20' - https://www.pgatour.com/stats/stat.386.html\n",
    "# GIR PUTTING - 10-15' - https://www.pgatour.com/stats/stat.385.html\n",
    "# GIR PUTTING - 5-10' - https://www.pgatour.com/stats/stat.384.html\n",
    "# GIR PUTTING - INSIDE 5' - https://www.pgatour.com/stats/stat.383.html"
   ]
  },
  {
   "cell_type": "code",
   "execution_count": null,
   "id": "6c806134",
   "metadata": {},
   "outputs": [],
   "source": [
    "# PUTTS PER ROUND:\n",
    "\n",
    "## PUTTS PER ROUND - https://www.pgatour.com/stats/stat.119.html\n",
    "## PUTTS PER ROUND - ROUND 1 - https://www.pgatour.com/stats/stat.393.html\n",
    "## PUTTS PER ROUND - ROUND 2 - https://www.pgatour.com/stats/stat.394.html\n",
    "## PUTTS PER ROUND - ROUND 3 - https://www.pgatour.com/stats/stat.395.html\n",
    "## PUTTS PER ROUND - ROUND 4 - https://www.pgatour.com/stats/stat.396.html\n",
    "## PUTTS PER ROUND - ROUND 5 - https://www.pgatour.com/stats/stat.397.html\n",
    "## 1-PUTTS PER ROUND - https://www.pgatour.com/stats/stat.398.html\n",
    "## 2-PUTTS PER ROUND - https://www.pgatour.com/stats/stat.399.html\n",
    "## 3-PUTTS PER ROUND - https://www.pgatour.com/stats/stat.400.html \n",
    "## 3+ PUTTS PER ROUND - https://www.pgatour.com/stats/stat.401.html"
   ]
  },
  {
   "cell_type": "code",
   "execution_count": null,
   "id": "1ca9248b",
   "metadata": {},
   "outputs": [],
   "source": [
    "# PUTTING AVERAGES:\n",
    "\n",
    "# TOTAL PUTTING - https://www.pgatour.com/stats/stat.02428.html\n",
    "# BONUS PUTTING - https://www.pgatour.com/stats/stat.02439.html\n",
    "# PUTTING AVERAGE - https://www.pgatour.com/stats/stat.104.html\n",
    "# OVERALL PUTTING AVERAGE - https://www.pgatour.com/stats/stat.402.html\n",
    "# BIRDIE OR BETTER CONVERSION PERCENTAGE - https://www.pgatour.com/stats/stat.115.html"
   ]
  },
  {
   "cell_type": "code",
   "execution_count": null,
   "id": "0ab99b58",
   "metadata": {},
   "outputs": [],
   "source": [
    "# AVG. PUTTING DIST.:\n",
    "\n",
    "# AVERAGE PUTTING DISTANCE - ALL 1 PUTTS - https://www.pgatour.com/stats/stat.409.html\n",
    "# AVERAGE PUTTING DISTANCE - ALL 2 PUTTS - https://www.pgatour.com/stats/stat.410.html\n",
    "# AVERAGE PUTTING DISTANCE - ALL 3 PUTTS - https://www.pgatour.com/stats/stat.411.html\n",
    "# AVERAGE PUTTING DISTANCE - ALL 3+ PUTTS - https://www.pgatour.com/stats/stat.412.html\n",
    "# AVERAGE PUTTING DISTANCE - GIR 1 PUTTS - https://www.pgatour.com/stats/stat.389.html\n",
    "# AVERAGE PUTTING DISTANCE - GIR 2 PUTTS - https://www.pgatour.com/stats/stat.390.html\n",
    "# AVERAGE PUTTING DISTANCE - GIR 3 PUTTS - https://www.pgatour.com/stats/stat.391.html\n",
    "# AVERAGE PUTTING DISTANCE - GIR 3+ PUTTS - https://www.pgatour.com/stats/stat.392.html\n",
    "# AVERAGE DISTANCE OF PUTTS MADE - https://www.pgatour.com/stats/stat.438.html\n",
    "# AVERAGE DISTANCE OF BIRDIE PUTTS MADE - https://www.pgatour.com/stats/stat.02440.html\n",
    "# AVERAGE DISTANCE OF EAGLE PUTTS MADE - https://www.pgatour.com/stats/stat.02442.html\n",
    "# PUTTS MADE DISTANCE - https://www.pgatour.com/stats/stat.135.html\n",
    "# APPROACH PUTT PERFORMANCE - https://www.pgatour.com/stats/stat.349.html"
   ]
  },
  {
   "cell_type": "markdown",
   "id": "0ec9e6dd",
   "metadata": {},
   "source": [
    "### Scoring Statistics\n",
    "https://www.pgatour.com/stats/categories.RSCR_INQ.html"
   ]
  },
  {
   "cell_type": "code",
   "execution_count": null,
   "id": "3d50cffe",
   "metadata": {},
   "outputs": [],
   "source": [
    "# STROKES GAINED:\n",
    "\n",
    "## SG: TOTAL - https://www.pgatour.com/stats/stat.02675.html"
   ]
  },
  {
   "cell_type": "code",
   "execution_count": null,
   "id": "340a80e4",
   "metadata": {},
   "outputs": [],
   "source": [
    "# SCORING OVERALL:\n",
    "\n",
    "## SCORING AVERAGE - https://www.pgatour.com/stats/stat.120.html\n",
    "## SCORING AVERAGE (ACTUAL) - https://www.pgatour.com/stats/stat.108.html\n",
    "## SCORING AVERAGE BEFORE CUT - https://www.pgatour.com/stats/stat.116.html\n",
    "## STROKE DIFFERENTIAL FIELD AVERAGE - https://www.pgatour.com/stats/stat.02417.html\n",
    "## LOWEST ROUND - https://www.pgatour.com/stats/stat.299.html\n",
    "## ROUNDS IN THE 60S - https://www.pgatour.com/stats/stat.152.html\n",
    "## SUB-PAR ROUNDS - https://www.pgatour.com/stats/stat.153.html"
   ]
  },
  {
   "cell_type": "code",
   "execution_count": null,
   "id": "9e11d29a",
   "metadata": {},
   "outputs": [],
   "source": [
    "# UNDER PAR SCORING:\n",
    "\n",
    "## PAR 3 BIRDIE OR BETTER LEADERS - https://www.pgatour.com/stats/stat.112.html\n",
    "## PAR 4 BIRDIE OR BETTER LEADERS - https://www.pgatour.com/stats/stat.113.html\n",
    "## PAR 5 BIRDIE OR BETTER LEADERS - https://www.pgatour.com/stats/stat.114.html\n",
    "## PAR 4 EAGLE LEADERS - https://www.pgatour.com/stats/stat.447.html\n",
    "## PAR 5 EAGLE LEADERS - https://www.pgatour.com/stats/stat.448.html\n",
    "## EAGLES (HOLES PER) - https://www.pgatour.com/stats/stat.155.html\n",
    "## TOTAL EAGLES - https://www.pgatour.com/stats/stat.106.html\n",
    "## PAR BREAKERS - https://www.pgatour.com/stats/stat.105.html\n",
    "## BIRDIE AVERAGE - https://www.pgatour.com/stats/stat.156.html\n",
    "## TOTAL BIRDIES - https://www.pgatour.com/stats/stat.107.html\n",
    "## BOUNCE BACK - https://www.pgatour.com/stats/stat.160.html\n",
    "## BIRDIE TO BOGEY RATIO - https://www.pgatour.com/stats/stat.02415.html\n",
    "## BIRDIE OR BETTER PERCENTAGE - https://www.pgatour.com/stats/stat.352.html\n",
    "## BIRDIE OR BETTER PERCENTAGE - 200+ YARDS - https://www.pgatour.com/stats/stat.357.html\n",
    "## BIRDIE OR BETTER PERCENTAGE - 175-200 YARDS - https://www.pgatour.com/stats/stat.358.html\n",
    "## BIRDIE OR BETTER PERCENTAGE - 150-175 YARDS - https://www.pgatour.com/stats/stat.359.html\n",
    "## BIRDIE OR BETTER PERCENTAGE - 125-150 YARDS - https://www.pgatour.com/stats/stat.360.html\n",
    "## BIRDIE OR BETTER PERCENTAGE - < 125 YARDS - https://www.pgatour.com/stats/stat.361.html\n",
    "## BIRDIE OR BETTER PERCENTAGE - FAIRWAY - https://www.pgatour.com/stats/stat.02333.html\n",
    "## BIRDIE OR BETTER PERCENTAGE - LEFT ROUGH - https://www.pgatour.com/stats/stat.02334.html\n",
    "## BIRDIE OR BETTER PERCENTAGE - RIGHT ROUGH - https://www.pgatour.com/stats/stat.02335.html\n",
    "## BIRDIE OR BETTER PERCENTAGE - ROUGH - https://www.pgatour.com/stats/stat.02336.html "
   ]
  },
  {
   "cell_type": "code",
   "execution_count": null,
   "id": "ada4fb93",
   "metadata": {},
   "outputs": [],
   "source": [
    "# OVER PAR SCORING:\n",
    "\n",
    "## BOGEY AVOIDANCE - https://www.pgatour.com/stats/stat.02414.html\n",
    "## BIRDIE TO BOGEY RATIO - https://www.pgatour.com/stats/stat.02415.html\n",
    "## REVERSE BOUNCE BACK - https://www.pgatour.com/stats/stat.02416.html\n",
    "## BOGEY AVERAGE - https://www.pgatour.com/stats/stat.02419.html"
   ]
  },
  {
   "cell_type": "code",
   "execution_count": null,
   "id": "ef0da62b",
   "metadata": {},
   "outputs": [],
   "source": [
    "# SCORING BY ROUND:\n",
    "\n",
    "## FINAL ROUND SCORING AVERAGE - https://www.pgatour.com/stats/stat.118.html\n",
    "## FINAL ROUND PERFORMANCE - https://www.pgatour.com/stats/stat.219.html\n",
    "## TOP 10 FINAL ROUND PERFORMANCE - https://www.pgatour.com/stats/stat.220.html\n",
    "## TOP 5 FINAL ROUND PERFORMANCE - https://www.pgatour.com/stats/stat.309.html\n",
    "## 11-25 FINAL ROUND PERFORMANCE - https://www.pgatour.com/stats/stat.310.html\n",
    "## 25+ FINAL ROUND PERFORMANCE - https://www.pgatour.com/stats/stat.311.html\n",
    "## 6-10 FINAL ROUND PERFORMANCE - https://www.pgatour.com/stats/stat.453.html\n",
    "## ROUND 1 SCORING AVERAGE - https://www.pgatour.com/stats/stat.148.html\n",
    "## ROUND 2 SCORING AVERAGE - https://www.pgatour.com/stats/stat.149.html\n",
    "## ROUND 3 SCORING AVERAGE - https://www.pgatour.com/stats/stat.117.html\n",
    "## ROUND 4 SCORING AVERAGE - https://www.pgatour.com/stats/stat.285.html\n",
    "## ROUND 5 SCORING AVERAGE - https://www.pgatour.com/stats/stat.286.html\n",
    "## FRONT 9 ROUND 1 SCORING AVERAGE - https://www.pgatour.com/stats/stat.245.html\n",
    "## BACK 9 ROUND 1 SCORING AVERAGE - https://www.pgatour.com/stats/stat.246.html\n",
    "## FRONT 9 ROUND 2 SCORING AVERAGE - https://www.pgatour.com/stats/stat.253.html\n",
    "## BACK 9 ROUND 2 SCORING AVERAGE - https://www.pgatour.com/stats/stat.254.html\n",
    "## FRONT 9 ROUND 3 SCORING AVERAGE - https://www.pgatour.com/stats/stat.261.html\n",
    "## FRONT 9 ROUND 4 SCORING AVERAGE - https://www.pgatour.com/stats/stat.269.html\n",
    "## FRONT 9 ROUND 5 SCORING AVERAGE - https://www.pgatour.com/stats/stat.277.html"
   ]
  },
  {
   "cell_type": "code",
   "execution_count": null,
   "id": "2567cbf9",
   "metadata": {},
   "outputs": [],
   "source": [
    "# PAR 3,4,5 SCORING:\n",
    "\n",
    "## PAR 3 PERFORMANCE - https://www.pgatour.com/stats/stat.171.html\n",
    "## PAR 3 SCORING AVERAGE - https://www.pgatour.com/stats/stat.142.html\n",
    "## PAR 3 BIRDIE OR BETTER LEADERS - https://www.pgatour.com/stats/stat.112.html\n",
    "## PAR 4 PERFORMANCE - https://www.pgatour.com/stats/stat.172.html\n",
    "## PAR 4 SCORING AVERAGE - https://www.pgatour.com/stats/stat.143.html\n",
    "## PAR 4 BIRDIE OR BETTER LEADERS - https://www.pgatour.com/stats/stat.113.html\n",
    "## PAR 5 PERFORMANCE - https://www.pgatour.com/stats/stat.173.html\n",
    "## PAR 5 SCORING AVERAGE - https://www.pgatour.com/stats/stat.144.html\n",
    "## PAR 5 EAGLE LEADERS - https://www.pgatour.com/stats/stat.448.html\n",
    "## PAR 5 BIRDIE OR BETTER LEADERS - https://www.pgatour.com/stats/stat.114.html\n",
    "## EARLY PAR 3 SCORING AVERAGE - https://www.pgatour.com/stats/stat.223.html\n",
    "## EARLY PAR 4 SCORING AVERAGE - https://www.pgatour.com/stats/stat.231.html\n",
    "## EARLY PAR 5 SCORING AVERAGE - https://www.pgatour.com/stats/stat.239.html\n",
    "## LATE PAR 3 SCORING AVERAGE - https://www.pgatour.com/stats/stat.224.html\n",
    "## LATE PAR 4 SCORING AVERAGE - https://www.pgatour.com/stats/stat.232.html\n",
    "## LATE PAR 5 SCORING AVERAGE - https://www.pgatour.com/stats/stat.240.html"
   ]
  },
  {
   "cell_type": "code",
   "execution_count": null,
   "id": "a484f73b",
   "metadata": {},
   "outputs": [],
   "source": [
    "# FRONT 9 SCORING:\n",
    "\n",
    "## FRONT 9 SCORING AVERAGE - https://www.pgatour.com/stats/stat.207.html\n",
    "## FRONT 9 LOWEST ROUND - https://www.pgatour.com/stats/stat.301.html\n",
    "## FRONT 9 PAR 3 SCORING AVERAGE - https://www.pgatour.com/stats/stat.221.html\n",
    "## FRONT 9 PAR 4 SCORING AVERAGE - https://www.pgatour.com/stats/stat.229.html\n",
    "## FRONT 9 PAR 5 SCORING AVERAGE - https://www.pgatour.com/stats/stat.237.html\n",
    "## FRONT 9 ROUND 1 SCORING AVERAGE - https://www.pgatour.com/stats/stat.245.html\n",
    "## FRONT 9 ROUND 2 SCORING AVERAGE - https://www.pgatour.com/stats/stat.253.html\n",
    "## FRONT 9 ROUND 3 SCORING AVERAGE - https://www.pgatour.com/stats/stat.261.html\n",
    "## FRONT 9 ROUND 4 SCORING AVERAGE - https://www.pgatour.com/stats/stat.269.html\n",
    "## FRONT 9 ROUND 5 SCORING AVERAGE - https://www.pgatour.com/stats/stat.277.html"
   ]
  },
  {
   "cell_type": "code",
   "execution_count": null,
   "id": "778e496d",
   "metadata": {},
   "outputs": [],
   "source": [
    "# BACK 9 SCORING:\n",
    "\n",
    "## BACK 9 SCORING AVERAGE - https://www.pgatour.com/stats/stat.208.html\n",
    "## BACK 9 LOWEST ROUND - https://www.pgatour.com/stats/stat.302.html\n",
    "## BACK 9 PAR 3 SCORING AVERAGE - https://www.pgatour.com/stats/stat.222.html\n",
    "## BACK 9 PAR 4 SCORING AVERAGE - https://www.pgatour.com/stats/stat.230.html\n",
    "## BACK 9 PAR 5 SCORING AVERAGE - https://www.pgatour.com/stats/stat.238.html\n",
    "## BACK 9 ROUND 1 SCORING AVERAGE - https://www.pgatour.com/stats/stat.246.html\n",
    "## BACK 9 ROUND 2 SCORING AVERAGE - https://www.pgatour.com/stats/stat.254.html\n",
    "## BACK 9 ROUND 3 SCORING AVERAGE - https://www.pgatour.com/stats/stat.262.html \n",
    "## BACK 9 ROUND 4 SCORING AVERAGE - https://www.pgatour.com/stats/stat.270.html\n",
    "## BACK 9 ROUND 5 SCORING AVERAGE - https://www.pgatour.com/stats/stat.278.html"
   ]
  },
  {
   "cell_type": "code",
   "execution_count": null,
   "id": "4dfee63a",
   "metadata": {},
   "outputs": [],
   "source": [
    "# EARLY SCORING:\n",
    "\n",
    "# EARLY SCORING AVERAGE - https://www.pgatour.com/stats/stat.292.html\n",
    "# EARLY LOWEST ROUND - https://www.pgatour.com/stats/stat.303.html\n",
    "# FIRST TEE EARLY SCORING AVERAGE - https://www.pgatour.com/stats/stat.209.html\n",
    "# TENTH TEE EARLY SCORING AVERAGE - https://www.pgatour.com/stats/stat.210.html\n",
    "# EARLY PAR 3 SCORING AVERAGE - https://www.pgatour.com/stats/stat.223.html\n",
    "# EARLY PAR 4 SCORING AVERAGE - https://www.pgatour.com/stats/stat.231.html\n",
    "# EARLY PAR 5 SCORING AVERAGE - https://www.pgatour.com/stats/stat.239.html\n",
    "# EARLY ROUND 1 SCORING AVERAGE - https://www.pgatour.com/stats/stat.247.html\n",
    "# EARLY ROUND 2 SCORING AVERAGE - https://www.pgatour.com/stats/stat.255.html\n",
    "# EARLY ROUND 3 SCORING AVERAGE - https://www.pgatour.com/stats/stat.263.html\n",
    "# EARLY ROUND 4 SCORING AVERAGE - https://www.pgatour.com/stats/stat.271.html\n",
    "# EARLY ROUND 5 SCORING AVERAGE - https://www.pgatour.com/stats/stat.279.html\n",
    "# FIRST TEE EARLY PAR 3 SCORING AVERAGE - https://www.pgatour.com/stats/stat.225.html\n",
    "# TENTH TEE EARLY PAR 3 SCORING AVERAGE - https://www.pgatour.com/stats/stat.226.html\n",
    "# FIRST TEE EARLY PAR 4 SCORING AVERAGE - https://www.pgatour.com/stats/stat.233.html\n",
    "# TENTH TEE EARLY PAR 4 SCORING AVERAGE - https://www.pgatour.com/stats/stat.234.html\n",
    "# FIRST TEE EARLY PAR 5 SCORING AVERAGE - https://www.pgatour.com/stats/stat.241.html\n",
    "# TENTH TEE EARLY PAR 5 SCORING AVERAGE - https://www.pgatour.com/stats/stat.242.html\n",
    "# FIRST TEE EARLY ROUND 1 SCORING AVERAGE - https://www.pgatour.com/stats/stat.249.html\n",
    "# TENTH TEE EARLY ROUND 1 SCORING AVERAGE - https://www.pgatour.com/stats/stat.250.html\n",
    "# FIRST TEE EARLY ROUND 2 SCORING AVERAGE - https://www.pgatour.com/stats/stat.257.html\n",
    "# TENTH TEE EARLY ROUND 2 SCORING AVERAGE - https://www.pgatour.com/stats/stat.258.html\n",
    "# FIRST TEE EARLY ROUND 3 SCORING AVERAGE - https://www.pgatour.com/stats/stat.265.html\n",
    "# TENTH TEE EARLY ROUND 3 SCORING AVERAGE - https://www.pgatour.com/stats/stat.266.html\n",
    "# FIRST TEE EARLY ROUND 4 SCORING AVERAGE - https://www.pgatour.com/stats/stat.273.html\n",
    "# TENTH TEE EARLY ROUND 4 SCORING AVERAGE - https://www.pgatour.com/stats/stat.274.html\n",
    "# FIRST TEE EARLY ROUND 5 SCORING AVERAGE - https://www.pgatour.com/stats/stat.281.html\n",
    "# TENTH TEE EARLY ROUND 5 SCORING AVERAGE - https://www.pgatour.com/stats/stat.282.html\n",
    "# FIRST TEE EARLY LOWEST ROUND - https://www.pgatour.com/stats/stat.305.html\n",
    "# TENTH TEE EARLY LOWEST ROUND - https://www.pgatour.com/stats/stat.306.html"
   ]
  },
  {
   "cell_type": "code",
   "execution_count": null,
   "id": "5b3942ed",
   "metadata": {},
   "outputs": [],
   "source": [
    "# LATE SCORING:\n",
    "\n",
    "# LATE SCORING AVERAGE - https://www.pgatour.com/stats/stat.293.html\n",
    "# LATE LOWEST ROUND - https://www.pgatour.com/stats/stat.304.html\n",
    "# LATE PAR 3 SCORING AVERAGE - https://www.pgatour.com/stats/stat.224.html\n",
    "# LATE PAR 4 SCORING AVERAGE - https://www.pgatour.com/stats/stat.232.html\n",
    "# LATE PAR 5 SCORING AVERAGE - https://www.pgatour.com/stats/stat.240.html\n",
    "# LATE ROUND 1 SCORING AVERAGE - https://www.pgatour.com/stats/stat.248.html\n",
    "# LATE ROUND 2 SCORING AVERAGE - https://www.pgatour.com/stats/stat.256.html\n",
    "# LATE ROUND 3 SCORING AVERAGE - https://www.pgatour.com/stats/stat.264.html\n",
    "# LATE ROUND 4 SCORING AVERAGE - https://www.pgatour.com/stats/stat.272.html\n",
    "# LATE ROUND 5 SCORING AVERAGE - https://www.pgatour.com/stats/stat.280.html\n",
    "# FIRST TEE LATE SCORING AVERAGE - https://www.pgatour.com/stats/stat.211.html\n",
    "# TENTH TEE LATE SCORING AVERAGE - https://www.pgatour.com/stats/stat.212.html\n",
    "# FIRST TEE LATE PAR 3 SCORING AVERAGE - https://www.pgatour.com/stats/stat.227.html\n",
    "# TENTH TEE LATE PAR 3 SCORING AVERAGE - https://www.pgatour.com/stats/stat.228.html\n",
    "# FIRST TEE LATE PAR 4 SCORING AVERAGE - https://www.pgatour.com/stats/stat.235.html\n",
    "# TENTH TEE LATE PAR 4 SCORING AVERAGE - https://www.pgatour.com/stats/stat.236.html\n",
    "# FIRST TEE LATE PAR 5 SCORING AVERAGE - https://www.pgatour.com/stats/stat.243.html\n",
    "# TENTH TEE LATE PAR 5 SCORING AVERAGE - https://www.pgatour.com/stats/stat.244.html\n",
    "# FIRST TEE LATE ROUND 1 SCORING AVERAGE - https://www.pgatour.com/stats/stat.251.html\n",
    "# TENTH TEE LATE ROUND 1 SCORING AVERAGE - https://www.pgatour.com/stats/stat.252.html\n",
    "# FIRST TEE LATE ROUND 2 SCORING AVERAGE - https://www.pgatour.com/stats/stat.259.html\n",
    "# TENTH TEE LATE ROUND 2 SCORING AVERAGE - https://www.pgatour.com/stats/stat.260.html\n",
    "# FIRST TEE LATE ROUND 3 SCORING AVERAGE - https://www.pgatour.com/stats/stat.267.html\n",
    "# TENTH TEE LATE ROUND 3 SCORING AVERAGE - https://www.pgatour.com/stats/stat.268.html\n",
    "# FIRST TEE LATE ROUND 4 SCORING AVERAGE - https://www.pgatour.com/stats/stat.275.html\n",
    "# TENTH TEE LATE ROUND 4 SCORING AVERAGE - https://www.pgatour.com/stats/stat.276.html\n",
    "# FIRST TEE LATE ROUND 5 SCORING AVERAGE - https://www.pgatour.com/stats/stat.283.html\n",
    "# TENTH TEE LATE ROUND 5 SCORING AVERAGE - https://www.pgatour.com/stats/stat.284.html\n",
    "# FIRST TEE LATE LOWEST ROUND - https://www.pgatour.com/stats/stat.307.html\n",
    "# TENTH TEE LATE LOWEST ROUND - https://www.pgatour.com/stats/stat.308.html"
   ]
  },
  {
   "cell_type": "code",
   "execution_count": null,
   "id": "01fb6519",
   "metadata": {},
   "outputs": [],
   "source": [
    "# EFFICIENCY SCORING:\n",
    "\n",
    "# PAR 3 EFFICIENCY < 100 YARDS - https://www.pgatour.com/stats/stat.02517.html\n",
    "# PAR 3 EFFICIENCY 100-125 YARDS - https://www.pgatour.com/stats/stat.02518.html\n",
    "# PAR 3 EFFICIENCY 125-150 YARDS - https://www.pgatour.com/stats/stat.02519.html\n",
    "# PAR 3 EFFICIENCY 150-175 YARDS - https://www.pgatour.com/stats/stat.02520.html\n",
    "# PAR 3 EFFICIENCY 175-200 YARDS - https://www.pgatour.com/stats/stat.02521.html\n",
    "# PAR 3 EFFICIENCY 200-225 YARDS - https://www.pgatour.com/stats/stat.02522.html\n",
    "# PAR 3 EFFICIENCY 225-250 YARDS - https://www.pgatour.com/stats/stat.02523.html\n",
    "# PAR 3 EFFICIENCY >250 YARDS - https://www.pgatour.com/stats/stat.02524.html\n",
    "# PAR 4 EFFICIENCY < 250 YARDS - https://www.pgatour.com/stats/stat.02525.html\n",
    "# PAR 4 EFFICIENCY 250-300 YARDS - https://www.pgatour.com/stats/stat.02526.html\n",
    "# PAR 4 EFFICIENCY 300-350 YARDS - https://www.pgatour.com/stats/stat.02527.html\n",
    "# PAR 4 EFFICIENCY 350-400 YARDS - https://www.pgatour.com/stats/stat.02528.html\n",
    "# PAR 4 EFFICIENCY 400-450 YARDS - https://www.pgatour.com/stats/stat.02529.html\n",
    "# PAR 4 EFFICIENCY 450-500 YARDS - https://www.pgatour.com/stats/stat.02530.html\n",
    "# PAR 4 EFFICIENCY >500 YARDS - https://www.pgatour.com/stats/stat.02531.html\n",
    "# PAR 5 EFFICIENCY <500 YARDS - https://www.pgatour.com/stats/stat.02532.html\n",
    "# PAR 5 EFFICIENCY 500-550 YARDS - https://www.pgatour.com/stats/stat.02533.html\n",
    "# PAR 5 EFFICIENCY 550-600 YARDS - https://www.pgatour.com/stats/stat.02534.html\n",
    "# PAR 5 EFFICIENCY 600-650 YARDS - https://www.pgatour.com/stats/stat.02535.html\n",
    "# PAR 5 EFFICIENCY >650 YARDS - https://www.pgatour.com/stats/stat.02536.html"
   ]
  },
  {
   "cell_type": "markdown",
   "id": "d8374c66",
   "metadata": {},
   "source": [
    "### Streaks Statistics\n",
    "https://www.pgatour.com/stats/streaks"
   ]
  },
  {
   "cell_type": "code",
   "execution_count": null,
   "id": "dd4a8dd6",
   "metadata": {},
   "outputs": [],
   "source": [
    "# # Other Streaks\n",
    "\n",
    "# ## Consecutive Cuts - https://www.pgatour.com/stats/detail/122\n",
    "# https://www.pgatour.com/stats/detail/137\n",
    "# https://www.pgatour.com/stats/detail/483\n",
    "# https://www.pgatour.com/stats/detail/297\n",
    "# https://www.pgatour.com/stats/detail/298\n",
    "# https://www.pgatour.com/stats/detail/296\n",
    "# https://www.pgatour.com/stats/detail/295\n",
    "# https://www.pgatour.com/stats/detail/294\n",
    "# https://www.pgatour.com/stats/detail/474\n",
    "https://www.pgatour.com/stats/detail/475\n",
    "    https://www.pgatour.com/stats/detail/476\n",
    "        https://www.pgatour.com/stats/detail/477\n",
    "            https://www.pgatour.com/stats/detail/482\n",
    "                https://www.pgatour.com/stats/detail/122\n",
    "                    https://www.pgatour.com/stats/detail/138\n",
    "                https://www.pgatour.com/stats/detail/475\n",
    "\n",
    "                    https://www.pgatour.com/stats/detail/02394\n",
    "                        https://www.pgatour.com/stats/detail/131"
   ]
  },
  {
   "cell_type": "code",
   "execution_count": null,
   "id": "c5848b25",
   "metadata": {},
   "outputs": [],
   "source": []
  },
  {
   "cell_type": "markdown",
   "id": "e3e7c08e",
   "metadata": {},
   "source": [
    "### Money/Finishes Statistics\n",
    "https://www.pgatour.com/stats/categories.RMNY_INQ.html"
   ]
  },
  {
   "cell_type": "code",
   "execution_count": null,
   "id": "f6f29714",
   "metadata": {},
   "outputs": [],
   "source": []
  },
  {
   "cell_type": "code",
   "execution_count": null,
   "id": "bc935b6b",
   "metadata": {},
   "outputs": [],
   "source": []
  },
  {
   "cell_type": "code",
   "execution_count": null,
   "id": "a9ac447e",
   "metadata": {},
   "outputs": [],
   "source": []
  },
  {
   "cell_type": "markdown",
   "id": "9709da5d",
   "metadata": {},
   "source": [
    "### Points/Ratings Statistics\n",
    "https://www.pgatour.com/stats/categories.RPTS_INQ.html"
   ]
  },
  {
   "cell_type": "code",
   "execution_count": null,
   "id": "35f95e8e",
   "metadata": {},
   "outputs": [],
   "source": []
  },
  {
   "cell_type": "code",
   "execution_count": null,
   "id": "d0860cd0",
   "metadata": {},
   "outputs": [],
   "source": []
  },
  {
   "cell_type": "code",
   "execution_count": null,
   "id": "5709d27f",
   "metadata": {},
   "outputs": [],
   "source": []
  }
 ],
 "metadata": {
  "kernelspec": {
   "display_name": "Python 3",
   "language": "python",
   "name": "python3"
  },
  "language_info": {
   "codemirror_mode": {
    "name": "ipython",
    "version": 3
   },
   "file_extension": ".py",
   "mimetype": "text/x-python",
   "name": "python",
   "nbconvert_exporter": "python",
   "pygments_lexer": "ipython3",
   "version": "3.7.13"
  }
 },
 "nbformat": 4,
 "nbformat_minor": 5
}
